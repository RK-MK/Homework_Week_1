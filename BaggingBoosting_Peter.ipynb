{
 "cells": [
  {
   "cell_type": "markdown",
   "metadata": {},
   "source": [
    "Bagging / Boosting"
   ]
  },
  {
   "cell_type": "markdown",
   "metadata": {},
   "source": [
    "Bagging and Boosting are methodologies to manage variance and bias of a model."
   ]
  },
  {
   "cell_type": "markdown",
   "metadata": {},
   "source": [
    "Bagging: One bagging method is the random forest.\n",
    "In a bagging method one studies different data-subsets and or different feature subsets in parallel.\n",
    "Then one uses voting or averaging to make a decision based on the different trees.\n",
    "Bagging leads to a reduction of bias by simply averaging over different presumptions (biases).\n",
    "At the same time, by studying different subsets of data, one can decrease the risk of overfitting."
   ]
  },
  {
   "cell_type": "markdown",
   "metadata": {},
   "source": [
    "Boosting: A different Ansatz to bagging is boosting.\n",
    "Thereby, one studies the data in a sequential manner by reducing a weighted loss function.\n",
    "If a model is not able to optimally fit a part of the dataset, one increases the weigth, while one decreases the weight for subsets of data which are fitted well and tries to produce a model that describes most of the dataset in an even manner."
   ]
  },
  {
   "cell_type": "markdown",
   "metadata": {},
   "source": [
    "Stacking: Another relevant method is stacking.\n",
    "There one analyses a testset by different methods (e.g. a random forest) and then uses these to construct a new dataset, which is then analyzed by different classifier."
   ]
  },
  {
   "cell_type": "code",
   "execution_count": null,
   "metadata": {},
   "outputs": [],
   "source": []
  }
 ],
 "metadata": {
  "kernelspec": {
   "display_name": "Python 3",
   "language": "python",
   "name": "python3"
  },
  "language_info": {
   "codemirror_mode": {
    "name": "ipython",
    "version": 3
   },
   "file_extension": ".py",
   "mimetype": "text/x-python",
   "name": "python",
   "nbconvert_exporter": "python",
   "pygments_lexer": "ipython3",
   "version": "3.7.3"
  }
 },
 "nbformat": 4,
 "nbformat_minor": 2
}
