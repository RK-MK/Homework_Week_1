{
 "cells": [
  {
   "cell_type": "markdown",
   "metadata": {},
   "source": [
    "## max five Sentence to Ensemble Methods"
   ]
  },
  {
   "cell_type": "markdown",
   "metadata": {},
   "source": [
    "Ensemble learning improves machine learning results by combining several models. The goal is to reduce variance (bagging), bias (boosting) or improve predictions (stacking).\n",
    "There are two groups of methods:\n",
    "- sequential ensemble methods, that take advantage of the dependence between the base learners. The overall performance will be boosted by weighting previously mislabeled examples with higher weight (AdaBoost)\n",
    "- parallel esemble methods, that take advantage of the independence between the base learners since the error can be reduced by averaging (Random Forest)"
   ]
  },
  {
   "cell_type": "code",
   "execution_count": null,
   "metadata": {},
   "outputs": [],
   "source": []
  }
 ],
 "metadata": {
  "kernelspec": {
   "display_name": "Python [conda env:nf] *",
   "language": "python",
   "name": "conda-env-nf-py"
  },
  "language_info": {
   "codemirror_mode": {
    "name": "ipython",
    "version": 3
   },
   "file_extension": ".py",
   "mimetype": "text/x-python",
   "name": "python",
   "nbconvert_exporter": "python",
   "pygments_lexer": "ipython3",
   "version": "3.6.6"
  }
 },
 "nbformat": 4,
 "nbformat_minor": 2
}
