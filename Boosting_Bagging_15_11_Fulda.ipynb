{
 "cells": [
  {
   "cell_type": "markdown",
   "metadata": {},
   "source": [
    "# Ensemble method \n",
    "\n",
    "sequential = boosting\n",
    "\n",
    "parallel = bagging\n",
    "\n",
    "Boosting is a meta-algorithm in supervised ML to reduce variance and bias and improve predicitions, by combining weak learning algorithms to one strong one. Boosting is part of the sequential ensemble methods. Therefore every model corrects the errors of the last one. The final Prediction is found through weighted majority vote (classification) or weighted sum (regression). \n",
    "\n",
    "Bagging - like Random Forests - uses Bootstrapping and is part of the parallel ensemble method. In this technique parallel random subsets of the data are created (doubles are allowed) with all the features included. Finally all the predictions of every subset will be combined."
   ]
  },
  {
   "cell_type": "code",
   "execution_count": null,
   "metadata": {},
   "outputs": [],
   "source": []
  }
 ],
 "metadata": {
  "kernelspec": {
   "display_name": "Python [conda env:nf] *",
   "language": "python",
   "name": "conda-env-nf-py"
  },
  "language_info": {
   "codemirror_mode": {
    "name": "ipython",
    "version": 3
   },
   "file_extension": ".py",
   "mimetype": "text/x-python",
   "name": "python",
   "nbconvert_exporter": "python",
   "pygments_lexer": "ipython3",
   "version": "3.6.6"
  }
 },
 "nbformat": 4,
 "nbformat_minor": 2
}
