{
 "cells": [
  {
   "cell_type": "markdown",
   "metadata": {},
   "source": [
    "Ensemble method \n",
    "sequential = boosting\n",
    "parallel = bagging\n",
    "\n",
    "Boosting is a meta-algorithm in supervised ML to reduce variance and bias and improve predicitions, by combining weak learning algorithms to one strong one. Boosting is part of the sequential ensemble methods. The final Prediction is found through weighted majority vote (classification) or weighted sum (regression). \n",
    "Bagging - like Random Forest - uses Bootstrapping and is part of the parallel ensemble method."
   ]
  }
 ],
 "metadata": {
  "kernelspec": {
   "display_name": "Python [conda env:nf] *",
   "language": "python",
   "name": "conda-env-nf-py"
  },
  "language_info": {
   "codemirror_mode": {
    "name": "ipython",
    "version": 3
   },
   "file_extension": ".py",
   "mimetype": "text/x-python",
   "name": "python",
   "nbconvert_exporter": "python",
   "pygments_lexer": "ipython3",
   "version": "3.6.6"
  }
 },
 "nbformat": 4,
 "nbformat_minor": 2
}
