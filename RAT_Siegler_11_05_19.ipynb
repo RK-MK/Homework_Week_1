{
 "cells": [
  {
   "cell_type": "markdown",
   "metadata": {},
   "source": [
    "## The Bias Variance Tradeoff\n",
    "\n",
    "Setting: The basic linear regression model requires that the relation between dependent and independent variable is linear. In reality there are situations where the relationship is more complex. In these cases a simple linear regression model will not be able to capture the underlying data of the model.\n",
    "\n",
    "Solution: We conduct a polynomial regression with quadratic, cubic or even higher degree curves. These polynomial regressions lead to models which exhibit the following problems.\n",
    "\n",
    "Bias: The inability of a machine learning algorithm like linear regression to predict the real relationship within a dataset. So the bias gives a meassure between the average prediction of our model and the correct value which we are trying to predict. A model with a high bias oversimplifies the underlying problem, the so called underfitting.\n",
    "\n",
    "Variance: Variance is the variability of model prediction for a given data point or a value. With higher variance the model gets more flexibility to adopt to the training data, which leads to the problem of so called overfitting. When testet on the test set the model fails because it is not able to generalize on data it has not seen before.\n",
    "\n",
    "The solution to that problem is the bias variance tradeoff. It is a property of all machine learning models that enforces a tradeoff between how \"flexible\" the model is and how well it performs on unseen data.\n",
    "\n",
    "There are three possible cases:\n",
    "1. An underfit with high bias and low variance\n",
    "2. A correct fit with low bias and low variance\n",
    "3. An overfit with low bias and high variance\n"
   ]
  },
  {
   "cell_type": "code",
   "execution_count": null,
   "metadata": {},
   "outputs": [],
   "source": []
  }
 ],
 "metadata": {
  "kernelspec": {
   "display_name": "Python 3",
   "language": "python",
   "name": "python3"
  },
  "language_info": {
   "codemirror_mode": {
    "name": "ipython",
    "version": 3
   },
   "file_extension": ".py",
   "mimetype": "text/x-python",
   "name": "python",
   "nbconvert_exporter": "python",
   "pygments_lexer": "ipython3",
   "version": "3.6.6"
  }
 },
 "nbformat": 4,
 "nbformat_minor": 2
}
