{
 "cells": [
  {
   "cell_type": "markdown",
   "metadata": {},
   "source": [
    "# Ensemble Methods: Bagging, Boosting,  Stacking"
   ]
  },
  {
   "cell_type": "markdown",
   "metadata": {},
   "source": [
    "Ensemble learning is a way of machine learning where multiple models, that are often called weak learners, are trained on the same problem and then get combined, in order to achieve better results which ideally leads to more accurate and robust models. These weak learners can be combined in theree different ways in order to improve machine learning models.\n",
    "\n",
    "    1. Bagging: Take several homogeneous weak learners, train them independently and parallely from each other          and then combine them, in order to improve the model.\n",
    "    2. Boosting: Take several weak learners, train them sequentially i.e. each model depends on the previous one,        and then combine them.\n",
    "    3. Stacking: Train several different weak learners and combine them by creating a so called meta model. This        meta model gives predictions based on the multiple predictions of the weak models predictions."
   ]
  },
  {
   "cell_type": "code",
   "execution_count": null,
   "metadata": {},
   "outputs": [],
   "source": []
  }
 ],
 "metadata": {
  "kernelspec": {
   "display_name": "Python 3",
   "language": "python",
   "name": "python3"
  },
  "language_info": {
   "codemirror_mode": {
    "name": "ipython",
    "version": 3
   },
   "file_extension": ".py",
   "mimetype": "text/x-python",
   "name": "python",
   "nbconvert_exporter": "python",
   "pygments_lexer": "ipython3",
   "version": "3.6.6"
  }
 },
 "nbformat": 4,
 "nbformat_minor": 2
}
