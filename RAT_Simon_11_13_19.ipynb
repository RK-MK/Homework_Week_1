{
 "cells": [
  {
   "cell_type": "markdown",
   "metadata": {},
   "source": [
    "## Decision Tree"
   ]
  },
  {
   "cell_type": "markdown",
   "metadata": {},
   "source": [
    "### simple :"
   ]
  },
  {
   "cell_type": "markdown",
   "metadata": {},
   "source": [
    "Like with a real tree, when constructing a decision tree, we have branches and leafs. For us every branch depicts a decision we take with the leafs beeing the last nodes of the tree. The leafs show the output of the algorithm. If we run a sample through this decision tree it will come out at one of the leafs showing us the predicted outcome."
   ]
  },
  {
   "cell_type": "markdown",
   "metadata": {},
   "source": [
    " "
   ]
  },
  {
   "cell_type": "markdown",
   "metadata": {},
   "source": [
    "### a bit more complex :\n",
    "With a decision tree we build a tree like structure of nodes and edges. To predict a sample using this tree we train it on a testing set of data. Each node will depict a decision, hence splitting the data to new nodes. \n",
    "The goal for us is to create homogeneous \"leaf\" nodes depicting one possible outcome of the algorithm.\n",
    "\n",
    "\n",
    "To answer the question on which decision to take on a node we can use different metrics (Entropy, Gini, Classification Error).\n",
    "\n",
    "Decision trees work both on classification and regression problems.\n",
    "\n",
    "They might need pruning to avoid overfitting the problem with too complex trees."
   ]
  },
  {
   "cell_type": "markdown",
   "metadata": {},
   "source": [
    "#### example:"
   ]
  },
  {
   "cell_type": "markdown",
   "metadata": {},
   "source": [
    "Assume you want to predict if a person drives a expensive car.<br>\n",
    "We know the distribution of expensive cars among people of different income levels and age.\n",
    "In our decision tree we would use our metrics to check which decision to take first:<br>\n",
    "If a new person is either rich or poor, or if it is old or young.<br>\n",
    "The metric will tell us which of these steps is the better to take.<br>\n",
    "Repeating these steps we build our tree which finally can predict lets say a rich old person would drive a expensive car or not."
   ]
  },
  {
   "cell_type": "code",
   "execution_count": null,
   "metadata": {},
   "outputs": [],
   "source": []
  }
 ],
 "metadata": {
  "kernelspec": {
   "display_name": "Python [conda env:nf] *",
   "language": "python",
   "name": "conda-env-nf-py"
  },
  "language_info": {
   "codemirror_mode": {
    "name": "ipython",
    "version": 3
   },
   "file_extension": ".py",
   "mimetype": "text/x-python",
   "name": "python",
   "nbconvert_exporter": "python",
   "pygments_lexer": "ipython3",
   "version": "3.6.6"
  }
 },
 "nbformat": 4,
 "nbformat_minor": 2
}
