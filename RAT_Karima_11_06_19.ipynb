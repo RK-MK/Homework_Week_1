{
 "cells": [
  {
   "cell_type": "markdown",
   "metadata": {},
   "source": [
    "## Bias-Variance Tradeoff"
   ]
  },
  {
   "cell_type": "markdown",
   "metadata": {},
   "source": [
    "The \"bias-variance tradeoff\" in Machine Learning describes the trade-off between model flexibility and model generizability: \n",
    "- A model with high **bias** has a high difference between predicted and true data - it is *underfitted*. \n",
    "- A model with high **variance** is so adapted to the training data that it does not generalize to new data / environments - it is *overfitted*.\n",
    "\n",
    "The bias/variance trade-off refers to finding the \"right\" degree of model complexity for the problem at hand, which will ensure that the model has both low bias and low variance."
   ]
  }
 ],
 "metadata": {
  "kernelspec": {
   "display_name": "Python [conda env:nf] *",
   "language": "python",
   "name": "conda-env-nf-py"
  },
  "language_info": {
   "codemirror_mode": {
    "name": "ipython",
    "version": 3
   },
   "file_extension": ".py",
   "mimetype": "text/x-python",
   "name": "python",
   "nbconvert_exporter": "python",
   "pygments_lexer": "ipython3",
   "version": "3.6.6"
  }
 },
 "nbformat": 4,
 "nbformat_minor": 2
}
