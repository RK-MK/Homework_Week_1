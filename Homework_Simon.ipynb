{
 "cells": [
  {
   "cell_type": "markdown",
   "metadata": {},
   "source": [
    "### 1.Write a Python program to find all the values in a list are greater than a specified number."
   ]
  },
  {
   "cell_type": "code",
   "execution_count": 7,
   "metadata": {},
   "outputs": [
    {
     "data": {
      "text/plain": [
       "[453, 634]"
      ]
     },
     "execution_count": 7,
     "metadata": {},
     "output_type": "execute_result"
    }
   ],
   "source": [
    "rndlist = [5, 46, 453, 634]\n",
    "max_number = 86\n",
    "\n",
    "listgr = [k for k in rndlist if k > max_number]\n",
    "\n",
    "listgr"
   ]
  },
  {
   "cell_type": "markdown",
   "metadata": {},
   "source": [
    "### 2.Write a Python program to find the list in a list of lists whose sum of elements is the highest\n"
   ]
  },
  {
   "cell_type": "code",
   "execution_count": 12,
   "metadata": {},
   "outputs": [
    {
     "name": "stdout",
     "output_type": "stream",
     "text": [
      "18\n",
      "27\n"
     ]
    },
    {
     "data": {
      "text/plain": [
       "27"
      ]
     },
     "execution_count": 12,
     "metadata": {},
     "output_type": "execute_result"
    }
   ],
   "source": [
    "listlist = [[5,6,7], [25,2], [9,3,2,1,1], [21]]\n",
    "cur_max = 0\n",
    "\n",
    "for i in listlist:\n",
    "    if sum(i) > cur_max:\n",
    "        cur_max = sum(i)\n",
    "        print(cur_max)\n",
    "    else:\n",
    "        continue\n",
    "cur_max"
   ]
  },
  {
   "cell_type": "markdown",
   "metadata": {},
   "source": [
    "### 3.Write a Python program to generate all lists in a list."
   ]
  },
  {
   "cell_type": "code",
   "execution_count": 7,
   "metadata": {},
   "outputs": [
    {
     "name": "stdout",
     "output_type": "stream",
     "text": [
      "[1, 3]\n",
      "[2, 4, 5]\n"
     ]
    }
   ],
   "source": [
    "list3 = [1, 3 , \"text\", [1, 3], 5 , [2,4,5]]\n",
    "\n",
    "for i in list3:\n",
    "    if type(i) == list:\n",
    "        print(str(i))\n",
    "    else:\n",
    "        continue\n"
   ]
  },
  {
   "cell_type": "markdown",
   "metadata": {},
   "source": [
    "### 4.Write a Python program to print a specified list after removing the 0th, 4th and 5th elements. "
   ]
  },
  {
   "cell_type": "code",
   "execution_count": 17,
   "metadata": {},
   "outputs": [
    {
     "name": "stdout",
     "output_type": "stream",
     "text": [
      "['Green', 'White', 'Black']\n"
     ]
    }
   ],
   "source": [
    "sample_list = ['Red', 'Green', 'White', 'Black', 'Pink', 'Yellow']\n",
    "\n",
    "#print(sample_list.pop(0).pop(3).pop(3))\n",
    "sample_list.pop(0)\n",
    "sample_list.pop(3)\n",
    "sample_list.pop(3)\n",
    "print(sample_list)"
   ]
  },
  {
   "cell_type": "markdown",
   "metadata": {},
   "source": [
    "### 5.Write a program that returns a list that contains only the elements that are common between the lists (without duplicates)."
   ]
  },
  {
   "cell_type": "code",
   "execution_count": 19,
   "metadata": {},
   "outputs": [
    {
     "data": {
      "text/plain": [
       "[1, 1, 2, 3, 5, 8, 13]"
      ]
     },
     "execution_count": 19,
     "metadata": {},
     "output_type": "execute_result"
    }
   ],
   "source": [
    "a = [1, 1, 2, 3, 5, 8, 13, 21, 34, 55, 89]\n",
    "b = [1, 2, 3, 4, 5, 6, 7, 8, 9, 10, 11, 12, 13]\n",
    "\n",
    "commons = [i for i in a if i in b]\n",
    "commons"
   ]
  },
  {
   "cell_type": "markdown",
   "metadata": {},
   "source": [
    "### 6.Ask the user for a number and determine whether the number is prime or not. (For those who have forgotten, a prime number is a number that has no divisors.)"
   ]
  },
  {
   "cell_type": "code",
   "execution_count": 52,
   "metadata": {},
   "outputs": [
    {
     "name": "stdout",
     "output_type": "stream",
     "text": [
      "Check if this number is prime : 5\n",
      "5 is a prime number.\n"
     ]
    }
   ],
   "source": [
    "def divisor(x):\n",
    "    div_list=[]\n",
    "    for i in range(1, int(x / 2 )+1):\n",
    "        if x % i == 0:\n",
    "            div_list.append(i)\n",
    "    return div_list\n",
    "\n",
    "def is_prime(x):\n",
    "    if x == 1:\n",
    "        return False\n",
    "    elif x == 2:\n",
    "        return True\n",
    "    elif len(divisor(x)) != 1:\n",
    "        return False\n",
    "    else:\n",
    "        return True\n",
    "\n",
    "def print_isprime(x):\n",
    "    if is_prime(x) == True:\n",
    "        print(str(x) + \" is a prime number.\")\n",
    "    else:\n",
    "        print(str(x) + \" is not a prime number.\")\n",
    "\n",
    "\n",
    "\n",
    "rnd_number = int(input(\"Check if this number is prime : \" ))\n",
    "print_isprime(rnd_number)\n",
    "   "
   ]
  },
  {
   "cell_type": "markdown",
   "metadata": {},
   "source": [
    "### 7.Write a Python script to check if a given key already exists in a dictionary."
   ]
  },
  {
   "cell_type": "code",
   "execution_count": 68,
   "metadata": {},
   "outputs": [
    {
     "data": {
      "text/plain": [
       "True"
      ]
     },
     "execution_count": 68,
     "metadata": {},
     "output_type": "execute_result"
    }
   ],
   "source": [
    "dic = {\"a\": 1, \"b\": 2, \"h\": 54}\n",
    "\n",
    "def is_key(x):\n",
    "    \n",
    "    bool_num = False\n",
    "    for i in dic.keys():\n",
    "        if i == x:\n",
    "            bool_num = True\n",
    "            break\n",
    "        else:\n",
    "            pass\n",
    "    return bool_num\n",
    "\n",
    "is_key(\"b\")"
   ]
  },
  {
   "cell_type": "markdown",
   "metadata": {},
   "source": [
    "### 8.Write a Python script to print a dictionary where the keys are numbers between 1 and 15 (both included) and the values are square of keys.\n",
    "Sample Dictionary \n",
    "{1: 1, 2: 4, 3: 9, 4: 16, 5: 25, 6: 36, 7: 49, 8: 64, 9: 81, 10: 100, 11: 121, 12: 144, 13: 169, 14: 196, 15: 225}"
   ]
  },
  {
   "cell_type": "code",
   "execution_count": 73,
   "metadata": {},
   "outputs": [
    {
     "data": {
      "text/plain": [
       "{1: 1,\n",
       " 2: 4,\n",
       " 3: 9,\n",
       " 4: 16,\n",
       " 5: 25,\n",
       " 6: 36,\n",
       " 7: 49,\n",
       " 8: 64,\n",
       " 9: 81,\n",
       " 10: 100,\n",
       " 11: 121,\n",
       " 12: 144,\n",
       " 13: 169,\n",
       " 14: 196,\n",
       " 15: 225}"
      ]
     },
     "execution_count": 73,
     "metadata": {},
     "output_type": "execute_result"
    }
   ],
   "source": [
    "dict_numbers = dict()\n",
    "\n",
    "for i in range(1,16):\n",
    "    dict_numbers[i] = i*i\n",
    "\n",
    "dict_numbers"
   ]
  },
  {
   "cell_type": "markdown",
   "metadata": {},
   "source": [
    "### 9. Write a Python program to guess a number between 1 to 9. Note : User is prompted to enter a guess. If the user guesses wrong then the prompt appears again until the guess is correct, on successful guess, user will get a \"Well guessed!\" message, and the program will exit."
   ]
  },
  {
   "cell_type": "code",
   "execution_count": 90,
   "metadata": {},
   "outputs": [
    {
     "name": "stdout",
     "output_type": "stream",
     "text": [
      "Guess the number: 8\n",
      "Guess again: 5\n",
      "Guess again: 3\n",
      "Guess again: 6\n",
      "Guess again: 7\n",
      "Well guessed!\n"
     ]
    }
   ],
   "source": [
    "from random import randint as rnd\n",
    "def isguessednumber(x, y):\n",
    "    if x == y:\n",
    "        return True\n",
    "    else:\n",
    "        return False\n",
    "\n",
    "z = 1  \n",
    "number = rnd(1,10)\n",
    "inp = int(input(\"Guess the number: \"))\n",
    "\n",
    "while z:\n",
    "    if isguessednumber(inp, number):\n",
    "        print(\"Well guessed!\")\n",
    "        break\n",
    "    else:\n",
    "        inp = int(input(\"Guess again: \"))\n",
    "        continue\n"
   ]
  },
  {
   "cell_type": "code",
   "execution_count": 53,
   "metadata": {},
   "outputs": [
    {
     "name": "stdout",
     "output_type": "stream",
     "text": [
      "Guess the number, you've got 5 tries: 3\n",
      "Guess again (hint: the number is smaller than your input), 4 guess/es left: 2\n",
      "Well guessed!\n"
     ]
    }
   ],
   "source": [
    "from random import randint as rnd\n",
    "def isguessednumber(x, y):\n",
    "    if x == y:\n",
    "        return True\n",
    "    else:\n",
    "        return False\n",
    "\n",
    "\n",
    "\n",
    "number = rnd(1,10)\n",
    "counter = 0\n",
    "inp = int(input(\"Guess the number, you\\'ve got 5 tries: \"))\n",
    "\n",
    "while counter < 5:\n",
    "    if isguessednumber(inp, number):\n",
    "        print(\"Well guessed!\")\n",
    "        break\n",
    "    elif counter == 4:\n",
    "        print(\"Game Over!\")\n",
    "        break\n",
    "    else:\n",
    "        if inp < number:\n",
    "            counter += 1            \n",
    "            inp = int(input(\"Guess again (hint: the number is bigger than your input); \" + str(5 - counter) +\" guess/es left: \"))\n",
    "            continue\n",
    "        else:\n",
    "            counter +=1\n",
    "            inp = int(input(\"Guess again (hint: the number is smaller than your input), \" + str(5 - counter) +\" guess/es left: \"))\n",
    "            continue        \n",
    "    \n",
    "\n"
   ]
  },
  {
   "cell_type": "markdown",
   "metadata": {},
   "source": [
    "### 10. Write a Python program to construct the following pattern, using a nested for loop\n"
   ]
  },
  {
   "cell_type": "code",
   "execution_count": 7,
   "metadata": {},
   "outputs": [],
   "source": [
    "# * \n",
    "# * * \n",
    "# * * * \n",
    "# * * * * \n",
    "# * * * * * \n",
    "# * * * * \n",
    "# * * * \n",
    "# * * \n",
    "# *"
   ]
  },
  {
   "cell_type": "code",
   "execution_count": 56,
   "metadata": {},
   "outputs": [
    {
     "name": "stdout",
     "output_type": "stream",
     "text": [
      "* \n",
      "* * \n",
      "* * * \n",
      "* * * * \n",
      "* * * * * \n",
      "* * * * \n",
      "* * * \n",
      "* * \n",
      "* \n"
     ]
    }
   ],
   "source": [
    "numberloop = 5\n",
    "out = \"\"\n",
    "\n",
    "\n",
    "for i in range(1, (numberloop) + (numberloop - 1) + 1):\n",
    "    if i <= numberloop:\n",
    "        for j in range(1, i+1):\n",
    "            out += \"* \"\n",
    "        print(out)\n",
    "        out=\"\"\n",
    "        \n",
    "    elif i > numberloop:\n",
    "        for k in range(1, 2*numberloop-i +1):\n",
    "            out += \"* \"\n",
    "        print(out)\n",
    "        out=\"\"\n"
   ]
  },
  {
   "cell_type": "markdown",
   "metadata": {},
   "source": [
    "### 11. Write a program that prompts the user to enter numbers, one per line, ending with a line containing only 0, and keep a running sum of the numbers. Only print out the sum after all the numbers are entered (at least in your final version). Do not create a list! Each time you read in a number, you can immediately use it for your sum, and then be done with the number just entered."
   ]
  },
  {
   "cell_type": "code",
   "execution_count": 59,
   "metadata": {},
   "outputs": [
    {
     "name": "stdout",
     "output_type": "stream",
     "text": [
      "Input numbers to sum them up. Input 0 to stop and print sum: 5\n",
      "Input numbers to sum them up. Input 0 to stop and print sum: 6\n",
      "Input numbers to sum them up. Input 0 to stop and print sum: 74\n",
      "Input numbers to sum them up. Input 0 to stop and print sum: 3\n",
      "Input numbers to sum them up. Input 0 to stop and print sum: 7\n",
      "Input numbers to sum them up. Input 0 to stop and print sum: 0\n",
      "95\n"
     ]
    }
   ],
   "source": [
    "input_nums = int(input(\"Input numbers to sum them up. Input 0 to stop and print sum: \"))\n",
    "\n",
    "counter = 1\n",
    "summation = 0\n",
    "\n",
    "while counter != 0:\n",
    "    summation += input_nums\n",
    "    input_nums = int(input(\"Input numbers to sum them up. Input 0 to stop and print sum: \"))\n",
    "    counter = input_nums\n",
    "print(summation)"
   ]
  },
  {
   "cell_type": "markdown",
   "metadata": {},
   "source": [
    "### 12. The idea here is to see how many years it will take a bank account to grow to at least a given value, assuming a fixed annual interest. Write a program . Prompt the user for three numbers: an initial balance, the annual percentage for interest as a decimal, like .04 for 4%, and the final balance desired.\n",
    "\n",
    "### All the monetary amounts that you print should be rounded to exactly two decimal places. Start by printing the initial balance this way. For example, if the initial balance was entered as 123.5, it should be reprinted by your program as 123.50. Also print the balance each year until the desired amount is reached or passed. The first balance at or past the target should be the last one printed.\n",
    "\n",
    "### The math: The amount next year is the amount now times (1 + interest fraction), so if I have 500 now and the interest rate is .04, I have 500*(1.04) = 520 after one year and after two years I have, 520*(1.04) = 540.80....\n",
    "\n"
   ]
  },
  {
   "cell_type": "code",
   "execution_count": 71,
   "metadata": {},
   "outputs": [
    {
     "name": "stdout",
     "output_type": "stream",
     "text": [
      "Input starting balance: 200\n",
      "Input interest rate: 0.04\n",
      "Input desired balance: 400\n",
      "Year: 1  Balance: 208.00\n",
      "Year: 2  Balance: 216.32\n",
      "Year: 3  Balance: 224.97\n",
      "Year: 4  Balance: 233.97\n",
      "Year: 5  Balance: 243.33\n",
      "Year: 6  Balance: 253.06\n",
      "Year: 7  Balance: 263.19\n",
      "Year: 8  Balance: 273.71\n",
      "Year: 9  Balance: 284.66\n",
      "Year: 10  Balance: 296.05\n",
      "Year: 11  Balance: 307.89\n",
      "Year: 12  Balance: 320.21\n",
      "Year: 13  Balance: 333.01\n",
      "Year: 14  Balance: 346.34\n",
      "Year: 15  Balance: 360.19\n",
      "Year: 16  Balance: 374.60\n",
      "Year: 17  Balance: 389.58\n",
      "Year: 18  Balance: 405.16\n"
     ]
    }
   ],
   "source": [
    "init = float(input(\"Input starting balance: \"))\n",
    "interest = float(input(\"Input interest rate: \"))\n",
    "final = float(input(\"Input desired balance: \"))\n",
    "\n",
    "number_loops = 0\n",
    "\n",
    "while init < final:\n",
    "    init *= 1 + interest\n",
    "    number_loops += 1\n",
    "    print(\"Year: \"+ str(number_loops), \" Balance: \" \"{0:.2f}\".format(round(init,2)))\n",
    "\n",
    "\n",
    "\n",
    "\n",
    "#print(\"{0:.2f}\".format(round(init,2)))"
   ]
  },
  {
   "cell_type": "markdown",
   "metadata": {},
   "source": [
    "### 13. Write a Python program which iterates the integers from 1 to 50. For multiples of three print \"Fizz\" instead of the number and for the multiples of five print \"Buzz\". For numbers which are multiples of both three and five print \"FizzBuzz\"."
   ]
  },
  {
   "cell_type": "code",
   "execution_count": 73,
   "metadata": {},
   "outputs": [
    {
     "name": "stdout",
     "output_type": "stream",
     "text": [
      "FizzBuzz\n",
      "1\n",
      "2\n",
      "Fizz\n",
      "4\n",
      "Buzz\n",
      "Fizz\n",
      "7\n",
      "8\n",
      "Fizz\n",
      "Buzz\n",
      "11\n",
      "Fizz\n",
      "13\n",
      "14\n",
      "FizzBuzz\n",
      "16\n",
      "17\n",
      "Fizz\n",
      "19\n",
      "Buzz\n",
      "Fizz\n",
      "22\n",
      "23\n",
      "Fizz\n",
      "Buzz\n",
      "26\n",
      "Fizz\n",
      "28\n",
      "29\n",
      "FizzBuzz\n",
      "31\n",
      "32\n",
      "Fizz\n",
      "34\n",
      "Buzz\n",
      "Fizz\n",
      "37\n",
      "38\n",
      "Fizz\n",
      "Buzz\n",
      "41\n",
      "Fizz\n",
      "43\n",
      "44\n",
      "FizzBuzz\n",
      "46\n",
      "47\n",
      "Fizz\n",
      "49\n",
      "Buzz\n"
     ]
    }
   ],
   "source": [
    "for i in range(0, 51):\n",
    "    if i % 3 == 0 and i % 5 != 0:\n",
    "        print(\"Fizz\")\n",
    "            \n",
    "    elif i % 3 != 0 and i % 5 == 0:\n",
    "        print(\"Buzz\")\n",
    "            \n",
    "    elif i % 3 == 0 and i % 5 == 0:\n",
    "        print(\"FizzBuzz\")\n",
    "    \n",
    "    else:\n",
    "        print(i)"
   ]
  },
  {
   "cell_type": "code",
   "execution_count": 75,
   "metadata": {},
   "outputs": [
    {
     "name": "stdout",
     "output_type": "stream",
     "text": [
      "FizzBuzz\n",
      "1\n",
      "2\n",
      "Fizz\n",
      "4\n",
      "Buzz\n",
      "Fizz\n",
      "7\n",
      "8\n",
      "Fizz\n",
      "Buzz\n",
      "11\n",
      "Fizz\n",
      "13\n",
      "14\n",
      "FizzBuzz\n",
      "16\n",
      "17\n",
      "Fizz\n",
      "19\n",
      "Buzz\n",
      "Fizz\n",
      "22\n",
      "23\n",
      "Fizz\n",
      "Buzz\n",
      "26\n",
      "Fizz\n",
      "28\n",
      "29\n",
      "FizzBuzz\n",
      "31\n",
      "32\n",
      "Fizz\n",
      "34\n",
      "Buzz\n",
      "Fizz\n",
      "37\n",
      "38\n",
      "Fizz\n",
      "Buzz\n",
      "41\n",
      "Fizz\n",
      "43\n",
      "44\n",
      "FizzBuzz\n",
      "46\n",
      "47\n",
      "Fizz\n",
      "49\n",
      "Buzz\n"
     ]
    }
   ],
   "source": [
    "i = 0\n",
    "\n",
    "while i <= 50:\n",
    "    if i % 3 == 0 and i % 5 != 0:\n",
    "        print(\"Fizz\")\n",
    "        i += 1\n",
    "            \n",
    "    elif i % 3 != 0 and i % 5 == 0:\n",
    "        print(\"Buzz\")\n",
    "        i += 1\n",
    "            \n",
    "    elif i % 3 == 0 and i % 5 == 0:\n",
    "        print(\"FizzBuzz\")\n",
    "        i += 1\n",
    "    \n",
    "    else:\n",
    "        print(i)\n",
    "        i += 1"
   ]
  },
  {
   "cell_type": "markdown",
   "metadata": {},
   "source": [
    "## Shorter version of the calculator"
   ]
  },
  {
   "cell_type": "code",
   "execution_count": 3,
   "metadata": {},
   "outputs": [
    {
     "data": {
      "text/plain": [
       "101500.0"
      ]
     },
     "execution_count": 3,
     "metadata": {},
     "output_type": "execute_result"
    }
   ],
   "source": [
    "tupellist = [(50000, 0.08), (100000, 0.1), (150000, 0.15), (200000, 0.5), (240000, 0.6)]\n",
    "income = 300000\n",
    "\n",
    "\n",
    "\n",
    "def calculator(taxlist, income):\n",
    "    maximum_pos = 0\n",
    "    taxlist.insert(0,(0,0))   #We have to insert a (0,0) so we dont run into problems in the loop later\n",
    "    \n",
    "    maximum_pos = max([k + 1 for k in range(0, len(taxlist) - 1) if income > taxlist[k][0]])\n",
    "    \n",
    "    return sum([(taxlist[i][0] - taxlist[i-1][0]) * taxlist[i][1] for i in range(1,maximum_pos+1)]) \\\n",
    "                        + (income-taxlist[maximum_pos][0])*taxlist[maximum_pos][1]\n",
    "\n",
    "                 \n",
    "calculator(tupellist, income)\n"
   ]
  },
  {
   "cell_type": "code",
   "execution_count": null,
   "metadata": {},
   "outputs": [],
   "source": []
  }
 ],
 "metadata": {
  "kernelspec": {
   "display_name": "Python [conda env:nf] *",
   "language": "python",
   "name": "conda-env-nf-py"
  },
  "language_info": {
   "codemirror_mode": {
    "name": "ipython",
    "version": 3
   },
   "file_extension": ".py",
   "mimetype": "text/x-python",
   "name": "python",
   "nbconvert_exporter": "python",
   "pygments_lexer": "ipython3",
   "version": "3.6.6"
  }
 },
 "nbformat": 4,
 "nbformat_minor": 2
}
