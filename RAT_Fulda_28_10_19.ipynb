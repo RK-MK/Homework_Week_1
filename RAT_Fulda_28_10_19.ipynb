{
 "cells": [
  {
   "cell_type": "markdown",
   "metadata": {},
   "source": [
    "What do you understand of linear regression?\n",
    "\n",
    "Linear regression is a quantitative example (not like a classification) to find a correlation between y and x variables. When y rises x does so as well. Y is the dependent variable and x (or many x, see question 2) the independent variable. If you then plot these points against each other in a scatter plot you can calculate a best fit line based on the formula y = m*x + b, where m is the slope and b the y-intercept. You need to minimize the sum of all square errors, which is the distance of all x points to the best fit line (residuals). Than you have to calculate the least square regression to find the best fit line, this will be your prediction line."
   ]
  },
  {
   "cell_type": "markdown",
   "metadata": {},
   "source": [
    "what is multiple regression?\n",
    "\n",
    "Here you are working with multiple x variables instead of only one. For example the Housing Price Y versus multiple X values like \"number_of_bedrooms\", \"crime_rate\", \"income\", etc."
   ]
  }
 ],
 "metadata": {
  "kernelspec": {
   "display_name": "Python [conda env:nf] *",
   "language": "python",
   "name": "conda-env-nf-py"
  },
  "language_info": {
   "codemirror_mode": {
    "name": "ipython",
    "version": 3
   },
   "file_extension": ".py",
   "mimetype": "text/x-python",
   "name": "python",
   "nbconvert_exporter": "python",
   "pygments_lexer": "ipython3",
   "version": "3.6.6"
  }
 },
 "nbformat": 4,
 "nbformat_minor": 2
}
