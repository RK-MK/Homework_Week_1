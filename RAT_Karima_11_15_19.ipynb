{
 "cells": [
  {
   "cell_type": "markdown",
   "metadata": {},
   "source": [
    "## Bias-Variance Tradeoff"
   ]
  },
  {
   "cell_type": "markdown",
   "metadata": {},
   "source": [
    "The **bias-variance tradeoff** describes a property of Machine Learning models that refers to the trade-off between model complexity and model generizability.\n",
    "\n",
    "For example, consider a classification model that has the goal to correctly classify cats vs. dogs from pictures.<br>\n",
    "\n",
    "On the one hand, we might construct a simple model that classifies the pictures only based on the fur color of the animal (e.g. dark fur = dogs, white fur = cats). This model is oviously too simplistic and would not be able to correctly classify cats and dogs, neither for the training data nor for new testing data. This model has a high **bias** (it is based on wrong assumptions), it is **underfitted**. \n",
    "\n",
    "On the other hand, we might construct a very complex model that takes into account many different features in the pictures (fur color, fur density, color of collar, the image background, position of the animal in the image etc). While this model would perform very well on the training pictures, it would still not be able to correctly classify cats and dogs in a new picture set, since it has not really picked up the actually defining characteristics of cats vs. dogs (which do not include color of collar etc). This model has **high variance**, it is **overfitted**. \n",
    "\n",
    "In machine learning, we always try to find a good balance between **bias** (underfitting) and **variance** (overfitting) for the problem at hand, such that the resulting model will make good predictions with low bias and low variance."
   ]
  }
 ],
 "metadata": {
  "kernelspec": {
   "display_name": "Python [conda env:nf] *",
   "language": "python",
   "name": "conda-env-nf-py"
  },
  "language_info": {
   "codemirror_mode": {
    "name": "ipython",
    "version": 3
   },
   "file_extension": ".py",
   "mimetype": "text/x-python",
   "name": "python",
   "nbconvert_exporter": "python",
   "pygments_lexer": "ipython3",
   "version": "3.6.6"
  }
 },
 "nbformat": 4,
 "nbformat_minor": 2
}
