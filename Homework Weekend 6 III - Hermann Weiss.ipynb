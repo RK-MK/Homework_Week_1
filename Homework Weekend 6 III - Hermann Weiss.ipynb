{
 "cells": [
  {
   "cell_type": "markdown",
   "metadata": {},
   "source": [
    "# Homework Weekend 6\n",
    "##  Naive Bayes Algorithm\n",
    "### Sources\n",
    "#### Reading:\n",
    "- https://towardsdatascience.com/naive-bayes-explained-9d2b96f4a9c0<br>\n",
    "- https://towardsdatascience.com/naive-bayes-classifier-81d512f50a7c<br>\n",
    "- https://blog.aylien.com/naive-bayes-for-dummies-a-simple-explanation/<br>\n",
    "- https://machinelearningmastery.com/classification-as-conditional-probability-and-the-naive-bayes-algorithm/<br>\n",
    "\n",
    "\n",
    "#### Coding:\n",
    "- https://www.geeksforgeeks.org/naive-bayes-classifiers/<br>"
   ]
  },
  {
   "cell_type": "markdown",
   "metadata": {},
   "source": [
    "### Set Up Workshop"
   ]
  },
  {
   "cell_type": "code",
   "execution_count": 13,
   "metadata": {},
   "outputs": [],
   "source": [
    "## Load specific Functions\n",
    "# Load Iris Data\n",
    "from sklearn.datasets import load_iris\n",
    "# Seperate Training and Testing Data\n",
    "from sklearn.model_selection import train_test_split\n",
    "# Gaussian Naive Bayes Machines\n",
    "from sklearn.naive_bayes import GaussianNB\n",
    "# Metrics for Model Evaluation\n",
    "from sklearn import metrics "
   ]
  },
  {
   "cell_type": "markdown",
   "metadata": {},
   "source": [
    "### 01 : Data Mining"
   ]
  },
  {
   "cell_type": "code",
   "execution_count": 7,
   "metadata": {},
   "outputs": [],
   "source": [
    "# Import Data\n",
    "data_raw = load_iris() "
   ]
  },
  {
   "cell_type": "markdown",
   "metadata": {},
   "source": [
    "### 02 : Predictive Modeling"
   ]
  },
  {
   "cell_type": "code",
   "execution_count": 8,
   "metadata": {},
   "outputs": [],
   "source": [
    "# Seperate dependable and independable Features\n",
    "x = data_raw.data\n",
    "y = data_raw.target "
   ]
  },
  {
   "cell_type": "code",
   "execution_count": 9,
   "metadata": {},
   "outputs": [],
   "source": [
    "# x and y into testing and training data\n",
    "x_train, x_test, y_train, y_test = train_test_split(x, y, test_size=0.4, random_state=1) "
   ]
  },
  {
   "cell_type": "code",
   "execution_count": 11,
   "metadata": {},
   "outputs": [
    {
     "data": {
      "text/plain": [
       "GaussianNB(priors=None, var_smoothing=1e-09)"
      ]
     },
     "execution_count": 11,
     "metadata": {},
     "output_type": "execute_result"
    }
   ],
   "source": [
    "# Set Up Gaussian Naive Bayes Machine\n",
    "model = GaussianNB() \n",
    "# Feed training Data to Machine\n",
    "model.fit(x_train, y_train) "
   ]
  },
  {
   "cell_type": "code",
   "execution_count": 12,
   "metadata": {},
   "outputs": [],
   "source": [
    "# Make Predictions based on testing Data\n",
    "y_pred = model.predict(x_test) "
   ]
  },
  {
   "cell_type": "code",
   "execution_count": 14,
   "metadata": {},
   "outputs": [
    {
     "name": "stdout",
     "output_type": "stream",
     "text": [
      "Gaussian Naive Bayes model accuracy(in %): 95.0\n"
     ]
    }
   ],
   "source": [
    "# Calculating Accuracy\n",
    "print(\"Gaussian Naive Bayes model accuracy(in %):\", metrics.accuracy_score(y_test, y_pred)*100)"
   ]
  }
 ],
 "metadata": {
  "kernelspec": {
   "display_name": "Python [conda env:nf] *",
   "language": "python",
   "name": "conda-env-nf-py"
  },
  "language_info": {
   "codemirror_mode": {
    "name": "ipython",
    "version": 3
   },
   "file_extension": ".py",
   "mimetype": "text/x-python",
   "name": "python",
   "nbconvert_exporter": "python",
   "pygments_lexer": "ipython3",
   "version": "3.6.6"
  }
 },
 "nbformat": 4,
 "nbformat_minor": 2
}
