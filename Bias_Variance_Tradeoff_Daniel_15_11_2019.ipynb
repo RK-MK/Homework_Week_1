{
 "cells": [
  {
   "cell_type": "markdown",
   "metadata": {},
   "source": [
    "# Bias Variance Tradeoff:\n",
    "\n",
    "Bias and Variance are measures for how well a statistical model performs in prediction or classification tasks.\n",
    "\n",
    "Bias describes the tendency of a model to be skewed, leaned, biased into a certain direction, away from the optimal \"direction of aim\" . Less flexible models (small degrees of freedom) tend to have a high bias as they are constrained in their adaptation abilities to data.\n",
    "\n",
    "Variance is a measure of how flexibly a model adjusts to training data, how strong its fit varies with the data it is fed/fitted with. Slightly altering the training data will lead to a rather large difference in the model prediction.\n",
    "\n",
    "Less flexible models have a low variance, but can have a high bias (underfitting). More flexible models have low bias, but can have a high variance (overfitting). The opposing nature of the variation of bias and variance with model complexity is called the Bias-Variance-Tradeoff. Finding a model which simultaneously has low bias and low variance is the objective of statistical learning efforts. "
   ]
  },
  {
   "cell_type": "markdown",
   "metadata": {},
   "source": []
  }
 ],
 "metadata": {
  "kernelspec": {
   "display_name": "Python [conda env:nf] *",
   "language": "python",
   "name": "conda-env-nf-py"
  },
  "language_info": {
   "codemirror_mode": {
    "name": "ipython",
    "version": 3
   },
   "file_extension": ".py",
   "mimetype": "text/x-python",
   "name": "python",
   "nbconvert_exporter": "python",
   "pygments_lexer": "ipython3",
   "version": "3.6.6"
  }
 },
 "nbformat": 4,
 "nbformat_minor": 2
}
