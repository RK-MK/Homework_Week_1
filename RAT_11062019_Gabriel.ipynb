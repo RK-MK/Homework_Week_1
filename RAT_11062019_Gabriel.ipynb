{
 "cells": [
  {
   "cell_type": "markdown",
   "metadata": {},
   "source": [
    "## Definition of the Bias Variance Tradeoff\n",
    "(with a maximum of 5 sentences)"
   ]
  },
  {
   "cell_type": "markdown",
   "metadata": {},
   "source": [
    "Imagen you want to predict a stock price. You can build a model which is trained on the past with many different inputs and that model can display the stock movements perfectly. Such a model has a high variance (model complexity) and a low bias(little error). But this model will fail to make good predictions since it's generalization or abstraction ability is very low. In ML we aim for models with low variance and low bias, which have acceptable errors and high generalization ability."
   ]
  },
  {
   "cell_type": "code",
   "execution_count": null,
   "metadata": {},
   "outputs": [],
   "source": []
  }
 ],
 "metadata": {
  "kernelspec": {
   "display_name": "Python [conda env:nf] *",
   "language": "python",
   "name": "conda-env-nf-py"
  },
  "language_info": {
   "codemirror_mode": {
    "name": "ipython",
    "version": 3
   },
   "file_extension": ".py",
   "mimetype": "text/x-python",
   "name": "python",
   "nbconvert_exporter": "python",
   "pygments_lexer": "ipython3",
   "version": "3.6.6"
  }
 },
 "nbformat": 4,
 "nbformat_minor": 2
}
