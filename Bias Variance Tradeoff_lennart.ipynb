{
 "cells": [
  {
   "cell_type": "markdown",
   "metadata": {},
   "source": [
    "## Bias Variance Tradeoff\n",
    "\n",
    "Right balance between Bias (Underfitting) and Variance (Overfitting) in order to generate a model with high predictive power beyond the training data set.\n",
    "\n",
    "\n",
    "High variance causes the model to take into account random noise in the training data. These models are very good at predicting data based on the given training data set but are bad at predicting values based on an unknown data set (Overfitting). \n",
    "\n",
    "\n",
    "High bias causes the model to miss the relevant relations between independent and dependent variables, therefore the models are very flexible and can be applied to data outside the training data set, but the prediction results will be poor (Underfitting)."
   ]
  },
  {
   "cell_type": "code",
   "execution_count": null,
   "metadata": {},
   "outputs": [],
   "source": []
  }
 ],
 "metadata": {
  "kernelspec": {
   "display_name": "Python [conda env:nf] *",
   "language": "python",
   "name": "conda-env-nf-py"
  },
  "language_info": {
   "codemirror_mode": {
    "name": "ipython",
    "version": 3
   },
   "file_extension": ".py",
   "mimetype": "text/x-python",
   "name": "python",
   "nbconvert_exporter": "python",
   "pygments_lexer": "ipython3",
   "version": "3.6.6"
  }
 },
 "nbformat": 4,
 "nbformat_minor": 2
}
