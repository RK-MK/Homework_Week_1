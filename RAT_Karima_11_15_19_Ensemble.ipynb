{
 "cells": [
  {
   "cell_type": "markdown",
   "metadata": {},
   "source": [
    "# Ensemble methods\n",
    "---\n",
    "Ensemble methods are meta-models that combine several machine learning algorithms into one predictive model with the goal to:\n",
    "- decrease variance (bagging)\n",
    "- decrease bias (boosting)\n",
    "- improve predictions (stacking)"
   ]
  },
  {
   "cell_type": "markdown",
   "metadata": {},
   "source": [
    "### Bagging (Bootstrap aggregating)\n",
    "Bagging aggregates the estimates from multiple individual models **trained in parallel to reduce variance**, whereby each individual model is based on a random sample of the data with replacement. Aggregation of estimates is achieved by averaging (for regression) or majority voting (for classification) of individual model predictions. "
   ]
  },
  {
   "cell_type": "markdown",
   "metadata": {},
   "source": [
    "### Boosting\n",
    "Boosting makes predictions based on several individual models, which are **trained sequentially** on weighted versions of the data, whereby more weight is given to examples which were misclassified in previous rounds, which leads to a stepwise **reduction in bias**. Final predictions are made using a weighted sum (for regression) or a weighted majority vote (for classification)."
   ]
  },
  {
   "cell_type": "markdown",
   "metadata": {},
   "source": [
    "### Stacking\n",
    "Stacking combines multiple models (classifier or regressors) into a meta-classifier or meta-predictor. First, base-level models are trained on the data, then the outputs/predictions of these base-level models are used as new features to train a higher-level (meta) model. For example, predictions from three base-level models (KNN, Random Forest, Naive Bayes) can be combined by a Logistic Regression meta-classifier to **improve predictive power**."
   ]
  }
 ],
 "metadata": {
  "kernelspec": {
   "display_name": "Python [conda env:nf] *",
   "language": "python",
   "name": "conda-env-nf-py"
  },
  "language_info": {
   "codemirror_mode": {
    "name": "ipython",
    "version": 3
   },
   "file_extension": ".py",
   "mimetype": "text/x-python",
   "name": "python",
   "nbconvert_exporter": "python",
   "pygments_lexer": "ipython3",
   "version": "3.6.6"
  }
 },
 "nbformat": 4,
 "nbformat_minor": 2
}
