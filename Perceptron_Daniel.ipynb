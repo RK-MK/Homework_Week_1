{
 "cells": [
  {
   "cell_type": "markdown",
   "metadata": {},
   "source": [
    "# Perceptron RAT\n",
    "\n",
    "Perceptron, Activation function, Error function, and need for weights and bias.\n",
    "\n",
    "## Perceptron:\n",
    "\n",
    "- The perceptron is a concept developed by Frank Rosenblatt in 1957 which tries to mimic the function of a single neuron of the human brain. The neuron can be activated by inputs which have different influences on the level of activation of the neuron. It is a supervised learning algorithm and outputs a binary classification.\n",
    "\n",
    "## Activation function:\n",
    "\n",
    "- The activation function limits the total sum of the weighted inputs in a specific manner, such as the computational activation within the neuron can only take on certain values\n",
    "\n",
    "## Error, Loss, Cost Function:\n",
    "\n",
    "- The error function describes the difference between the output value of the perceptron and the desired target value. Commonly used is the mean squared error, which is seeked to be minimized.\n",
    "\n",
    "## Weights and bias:\n",
    "\n",
    "- A weight and a bias is given to each individual input value which is then summed and transformed by the activation function to form the overall activation of the perceptrons neuron (neural cell). The individual influence of a certain input on the overall activation is determined by its respective weight. Some inputs remain inactive and only activate the neuron after a certain threshold is passed. To account for this activation threshold, a bias is given to each input value. In order to minimize the error of the perceptron output, the individual weights and biases are iterativly adjusted in such a way as to minimize the cost function (towards the negative direction of the gradient of the cost function with respect to the weights and biases --> gradient descent)"
   ]
  },
  {
   "cell_type": "code",
   "execution_count": null,
   "metadata": {},
   "outputs": [],
   "source": []
  }
 ],
 "metadata": {
  "kernelspec": {
   "display_name": "Python [conda env:nf] *",
   "language": "python",
   "name": "conda-env-nf-py"
  },
  "language_info": {
   "codemirror_mode": {
    "name": "ipython",
    "version": 3
   },
   "file_extension": ".py",
   "mimetype": "text/x-python",
   "name": "python",
   "nbconvert_exporter": "python",
   "pygments_lexer": "ipython3",
   "version": "3.6.6"
  }
 },
 "nbformat": 4,
 "nbformat_minor": 2
}
