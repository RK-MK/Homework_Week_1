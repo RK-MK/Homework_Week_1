{
 "cells": [
  {
   "cell_type": "markdown",
   "metadata": {},
   "source": [
    "# Bias vs Variance II - The Trade Off"
   ]
  },
  {
   "cell_type": "markdown",
   "metadata": {},
   "source": [
    "## Situation\n",
    "We have a limited set of Data extracted from the reality. With this limited set we are trying to construct a model that will make accurate predictions in the reality.\n",
    "The difference between the prediction and the reality is an error.\n",
    "However, while constructing the model we can only work with the information we have, the mentioned limited set of Data."
   ]
  },
  {
   "cell_type": "markdown",
   "metadata": {},
   "source": [
    "## The Bias based error\n",
    "A Model can be simple and try to explain reality using only a few rules. However, reality is complex and there is DEFINETLY going to be a difference between the prediction and the reality. This is Bias. However, the complexer a model becomes - the more rules a model uses - the better the predictions will become. "
   ]
  },
  {
   "cell_type": "markdown",
   "metadata": {},
   "source": [
    "## The Variance based error\n",
    "However, as it was mentioned, the only Data we can use to make the model is our limeted set. Therefore our Model will gain complexity - but it will adapt to the training data we feed it, not reality! The prediction will become more erroneous since the reality will in more and more instances deviate from the training data.\n",
    "In a nutshell: The Model will become good at predicting the traning data, not the reality.\n",
    "And this will result in a bigger and bigger error with growing complexity."
   ]
  },
  {
   "cell_type": "markdown",
   "metadata": {},
   "source": [
    "## Trade Off\n",
    "In the End, the Bias based error will diminish, while with growing complexity the Variance based error will gain as well. Therefore with altering the complexity of the model one Error is traded off for the other one. The goal is to find the level of complexity that has the least combination of the two errors."
   ]
  }
 ],
 "metadata": {
  "kernelspec": {
   "display_name": "Python [conda env:nf] *",
   "language": "python",
   "name": "conda-env-nf-py"
  },
  "language_info": {
   "codemirror_mode": {
    "name": "ipython",
    "version": 3
   },
   "file_extension": ".py",
   "mimetype": "text/x-python",
   "name": "python",
   "nbconvert_exporter": "python",
   "pygments_lexer": "ipython3",
   "version": "3.6.6"
  }
 },
 "nbformat": 4,
 "nbformat_minor": 2
}
