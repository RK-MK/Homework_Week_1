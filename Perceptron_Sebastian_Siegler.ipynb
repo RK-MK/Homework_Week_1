{
 "cells": [
  {
   "cell_type": "markdown",
   "metadata": {},
   "source": [
    "### Perceptron\n",
    "\n",
    "The perceptron is basically a mathematical model of an artificial neural network. In its most simplistic form it consists of only one neuron with one output 0 or 1 and several inputs. It is usually used for classification problems. The training of a perceptron belongs to the class of supervised learning algoritms. \n",
    "\n",
    "\n",
    "### Need for weights and bias\n",
    "\n",
    "In order to create the output at the exit the perceptron takes several inputs. These inputs possess different alterable weights. Through these weights the model is able to learn as they can be altered in the process of learning of the network.  In a next step the weighted inputs are summed up and a bias is added.  \n",
    "\n",
    "\n",
    "### Activation function\n",
    "\n",
    "This term is then passed to the so called activation function. There are several types of activation function like sigmoid/logistic, TanH/hyperbolic, rectified linear unit/ReLU or SoftMax for instance. These mathematical equations within the activation function determine the output and decide wheather the neuron fires (1) ore not (0). So the neuron only fires if the input is relevant for the models prediction. In this context it is important to mention that the activation functions have to be computationally efficient as they have to calculated millions of times on complex neural networks.  \n",
    "\n",
    "\n",
    "### Error function\n",
    "\n",
    "In order to be able to generalize to any problem a so called loss funtion is defined. It is basically a performance metric to meassure how well the neural network manages to reach its goal of generating outputs as close as possible to the desired values\n",
    "\n",
    "\n",
    "\n",
    "\n"
   ]
  }
 ],
 "metadata": {
  "kernelspec": {
   "display_name": "Python 3",
   "language": "python",
   "name": "python3"
  },
  "language_info": {
   "codemirror_mode": {
    "name": "ipython",
    "version": 3
   },
   "file_extension": ".py",
   "mimetype": "text/x-python",
   "name": "python",
   "nbconvert_exporter": "python",
   "pygments_lexer": "ipython3",
   "version": "3.6.6"
  }
 },
 "nbformat": 4,
 "nbformat_minor": 2
}
