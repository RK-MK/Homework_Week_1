{
 "cells": [
  {
   "cell_type": "markdown",
   "metadata": {},
   "source": [
    "# 5 Sentence Condensation\n",
    "## Sources\n",
    "- https://cube.dev/blog/ensemble-learning/<br>\n",
    "- https://towardsdatascience.com/understanding-random-forest-58381e0602d2 (Second Half)<br>"
   ]
  },
  {
   "cell_type": "markdown",
   "metadata": {},
   "source": [
    "## Sentences\n",
    "<b>1)</b> Ensenmble Methods combine methods to improve performance.\n",
    "<b>2)</b> Bagging decreases the variance<br>\n",
    "<b>3)</b> Boosting decreases the bias by giving more weight to mislabled observations in sequentially repeated runs. <br>\n",
    "<b>4)</b> Stacking improves prediction and combines multiple classification or regression models via a meta-classifier or a meta-regressor.<br>\n",
    "<b>5)</b> Combining Decision Trees into a Random Forest improves the performance like making many little bets instead of a few big one focusses the distribution of the winnings."
   ]
  },
  {
   "cell_type": "code",
   "execution_count": null,
   "metadata": {},
   "outputs": [],
   "source": []
  }
 ],
 "metadata": {
  "kernelspec": {
   "display_name": "Python [conda env:nf] *",
   "language": "python",
   "name": "conda-env-nf-py"
  },
  "language_info": {
   "codemirror_mode": {
    "name": "ipython",
    "version": 3
   },
   "file_extension": ".py",
   "mimetype": "text/x-python",
   "name": "python",
   "nbconvert_exporter": "python",
   "pygments_lexer": "ipython3",
   "version": "3.6.6"
  }
 },
 "nbformat": 4,
 "nbformat_minor": 2
}
