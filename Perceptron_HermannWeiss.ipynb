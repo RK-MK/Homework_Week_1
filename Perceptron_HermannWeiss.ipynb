{
 "cells": [
  {
   "cell_type": "markdown",
   "metadata": {},
   "source": [
    "# RAT - Artificial Neural Networks"
   ]
  },
  {
   "cell_type": "markdown",
   "metadata": {},
   "source": [
    "## Description\n",
    "<b>Tasked: </b>by Eli, at 8:46 AM, via Slack<br>\n",
    "<b>Timing: </b>After today's review<br>\n",
    "<b>Format: </b>new Jupyter notebook, name \"Perceptron_yourname\", push it up.<br>\n",
    "<b>Time limit:</b> 20 mins<br>\n",
    "<b>Task:</b> write definitions of:<br>\n",
    "- Perceptron,\n",
    "- Activation function,\n",
    "- Error function,\n",
    "- need for weights,\n",
    "- need for bias.<br>"
   ]
  },
  {
   "cell_type": "markdown",
   "metadata": {},
   "source": [
    "## Execution"
   ]
  },
  {
   "cell_type": "markdown",
   "metadata": {},
   "source": [
    "### Perceptron\n",
    "The Perceptron is Computer Science Translation of the natural occuring Neuron. The Perceptron takes input, processes it by applying weights and transforming the result via a function into one output.<br>\n",
    "It is the building block AND the corner stone of Artificial Neural Networks."
   ]
  },
  {
   "cell_type": "markdown",
   "metadata": {},
   "source": [
    "### Activation Function\n",
    "The Activation Function transformes the preprocesses weighted input (preprocessed f.e. by summing them up) into the output.<br>\n",
    "Examples are:<br>\n",
    "- Sigmoid Function,\n",
    "- Heavyside Activation Function,\n",
    "- Linear Activation, and\n",
    "- RElu."
   ]
  },
  {
   "cell_type": "markdown",
   "metadata": {},
   "source": [
    "### Error Function\n",
    "The Errorfunction calculates the difference between the predicted value by the algorithm (in this case the ANN) and actual value. It is used to determine the direction, and distance of the changes in the weights.<br>\n",
    "Examples are:\n",
    "- Mean Square,\n",
    "- others."
   ]
  },
  {
   "cell_type": "markdown",
   "metadata": {},
   "source": [
    "### Need for Weights\n",
    "The weights are important since they are the parameters that alter the input of a node for processesing. They are also the only parameters that are directly influenced by the result of the ANN (better: the resulting Error of the process) during the backpropagation."
   ]
  },
  {
   "cell_type": "markdown",
   "metadata": {},
   "source": [
    "### Need for Bias\n",
    "-"
   ]
  }
 ],
 "metadata": {
  "kernelspec": {
   "display_name": "Python [conda env:nf-HRMNN] *",
   "language": "python",
   "name": "conda-env-nf-HRMNN-py"
  },
  "language_info": {
   "codemirror_mode": {
    "name": "ipython",
    "version": 3
   },
   "file_extension": ".py",
   "mimetype": "text/x-python",
   "name": "python",
   "nbconvert_exporter": "python",
   "pygments_lexer": "ipython3",
   "version": "3.6.6"
  }
 },
 "nbformat": 4,
 "nbformat_minor": 2
}
