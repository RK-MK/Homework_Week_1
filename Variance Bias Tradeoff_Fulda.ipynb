{
 "cells": [
  {
   "cell_type": "markdown",
   "metadata": {},
   "source": [
    "# Variance Bias Tradeoff"
   ]
  },
  {
   "cell_type": "markdown",
   "metadata": {},
   "source": [
    "\n",
    "The goal for a prediction model is to find the best fit line to a variety of values.\n",
    "\n",
    "In a supervised linear regression model it is possible that there is no perfect linear relationship between x and y.\n",
    "\n",
    "Therefore a line based on the known formula Y = mx + b wouldnt fit the values well. It would have a big Bias and would be an example for underfitting the values because the MSE would be high. The summarized distance from the line to the values would be high. A underfitted model has low flexibility.\n",
    "\n",
    "We need to increase the flexibility with a polynomial fit line. Bu we shouldnt increase the polynomial fit so far as to overfit the data and reach a too high variance. Afterwards the model wouldnt be able to \"see\" new data well. \n",
    "\n",
    "The overall goal of our model is to get the lowest MSE in the test data as possible. That is reached through low bias and low variance. \n",
    "\n",
    "\n",
    "Example:\n",
    "If you train a self-driving car perfectly on the streets of Berlin (high variance) and then put it to the streets of calcutta it would be overfitted because the test surroundings for the model would be far more complex then the streets in berlin. \n",
    "\n",
    "Otheriwse if you \n",
    "\n",
    "\n",
    "\n"
   ]
  },
  {
   "cell_type": "markdown",
   "metadata": {},
   "source": [
    "# New, shorter version"
   ]
  },
  {
   "cell_type": "markdown",
   "metadata": {},
   "source": [
    "**Bias** is how far the assumptions someone makes are away from the truth.\n",
    "\n",
    "**Variance** is how much the estimates differs between models.\n",
    "\n",
    "If bias is high variance is low and vice versa.\n",
    "\n",
    "**Goal:** Search for the sweet spot, where low bias and low variance meet (convergence). \n"
   ]
  },
  {
   "cell_type": "code",
   "execution_count": null,
   "metadata": {},
   "outputs": [],
   "source": []
  }
 ],
 "metadata": {
  "kernelspec": {
   "display_name": "Python [conda env:nf] *",
   "language": "python",
   "name": "conda-env-nf-py"
  },
  "language_info": {
   "codemirror_mode": {
    "name": "ipython",
    "version": 3
   },
   "file_extension": ".py",
   "mimetype": "text/x-python",
   "name": "python",
   "nbconvert_exporter": "python",
   "pygments_lexer": "ipython3",
   "version": "3.6.6"
  }
 },
 "nbformat": 4,
 "nbformat_minor": 2
}
