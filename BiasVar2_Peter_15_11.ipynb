{
 "cells": [
  {
   "cell_type": "markdown",
   "metadata": {},
   "source": [
    "Bias Variance Tradeoff 2"
   ]
  },
  {
   "cell_type": "markdown",
   "metadata": {},
   "source": [
    "I may be biased to believe the earth is flat, which may be an overall good approximation for most daily activities, but may become a problem when traveling the earth or making sense of the sky, the stars and the sun and seasons.\n",
    "This bias makes it harder to understand the world and we may not even be aware off, as there are many observations which are inexplicable by such a model.\n",
    "Biased models may therefore lead to a severe lack of understanding of the data and one needs to look or be open minded about more sophisticated models.\n",
    "\n",
    "A model may also be able to perfectly fit to a given set of data, usually such models have a high degree of variance.\n",
    "Yet such a seemingly perfect model may not allow us to truly understand the situation, e.g. we can try to keep an earth is flat model by putting more and more bizarre assumptions, yet these would likely fail by testing such models under slightly different circumstances, e.g. at different positions on the earth or elevations or would require even more complexities.\n",
    "A good model is one which describes the reality without too many assumptions, i.e. keeping the variance and the bias low, and as it turned out the earth is an ellipsoid together with Newton's law of gravity is a simple model which describes our world much better and does not require additional assumptions that just overfit the data."
   ]
  }
 ],
 "metadata": {
  "kernelspec": {
   "display_name": "Python 3",
   "language": "python",
   "name": "python3"
  },
  "language_info": {
   "codemirror_mode": {
    "name": "ipython",
    "version": 3
   },
   "file_extension": ".py",
   "mimetype": "text/x-python",
   "name": "python",
   "nbconvert_exporter": "python",
   "pygments_lexer": "ipython3",
   "version": "3.7.3"
  }
 },
 "nbformat": 4,
 "nbformat_minor": 2
}
