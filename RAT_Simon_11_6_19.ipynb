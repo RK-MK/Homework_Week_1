{
 "cells": [
  {
   "cell_type": "markdown",
   "metadata": {},
   "source": [
    "# Bias / Variance\n",
    "Bias shows how far away the assumptions made in the model are from the truth. (High Bias - Underfitting)<br>\n",
    "\n",
    "Variance shows how much the estimate changes based on different sets of data. (High Variance - Overfitting)<br>\n",
    "\n",
    "Tradeoff: The higher the bias the lower the variance and vice versa. <br>\n",
    "\n",
    "Example: You ask someone for a weather forecast who is always assuming that it will rain and someone who knows when it will rain in a few particular cases. The first will generally predict rather bad but consistently that it will surely rain , while the second person will have problems predicting the weather for cases that are outside of his knowledge range."
   ]
  },
  {
   "cell_type": "markdown",
   "metadata": {},
   "source": [
    "Helpful links:<br>\n",
    "https://medium.com/@viveksingh.heritage/an-intuitive-explanation-to-bias-variance-tradeoff-ec540fb13e12 <br>\n",
    "https://elitedatascience.com/bias-variance-tradeoff"
   ]
  },
  {
   "cell_type": "code",
   "execution_count": null,
   "metadata": {},
   "outputs": [],
   "source": []
  }
 ],
 "metadata": {
  "kernelspec": {
   "display_name": "Python [conda env:nf] *",
   "language": "python",
   "name": "conda-env-nf-py"
  },
  "language_info": {
   "codemirror_mode": {
    "name": "ipython",
    "version": 3
   },
   "file_extension": ".py",
   "mimetype": "text/x-python",
   "name": "python",
   "nbconvert_exporter": "python",
   "pygments_lexer": "ipython3",
   "version": "3.6.6"
  }
 },
 "nbformat": 4,
 "nbformat_minor": 2
}
