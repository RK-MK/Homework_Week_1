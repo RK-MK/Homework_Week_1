{
 "cells": [
  {
   "cell_type": "markdown",
   "metadata": {},
   "source": [
    "### Definition of Perceptron, Activation function, Error function, and need for weights and bias:"
   ]
  },
  {
   "attachments": {},
   "cell_type": "markdown",
   "metadata": {},
   "source": [
    "### Perceptron\n",
    "\n",
    "- linear classifier (binary)\n",
    "- Perceptron is usually used to classify the data into two parts.\n",
    "- used in supervised learning\n",
    "- perceptron consists of One input layer, Weights and Bias, Net sum & Activation Function\n",
    "- Steps: \n",
    "    - All the inputs x are multiplied with their weights w.\n",
    "    - Add all the multiplied values and call them Weighted Sum\n",
    "    - Apply that weighted sum to the correct Activation Function"
   ]
  },
  {
   "cell_type": "markdown",
   "metadata": {},
   "source": [
    "### Activation function\n",
    "\n",
    "- used to determine the output of neural network like yes or no (trigger)\n",
    "- a curve which is used to map the values of the network between the required values (0, 1) or (-1, 1). \n",
    "- This is done for every node in the network\n",
    "- types of Activation functions:\n",
    "    - sigmoid: Range: (0,1), S in shape, \n",
    "    - tanH: Range: (-1,1), faster than sigmoid curve, more steep or higher than sigmoid curve\n",
    "    - ReLU (Rectified Linear Unit): Range: (0 to infinity),  slope of ReLU is 1"
   ]
  },
  {
   "cell_type": "markdown",
   "metadata": {},
   "source": [
    "### Error function\n",
    "\n",
    "- performance metric on how well the NN manages to reach its goal of generating outputs as close as possible to the desired values.\n",
    "- minimize the overall error over the whole dataset (total of the sum of the squares of the errors)"
   ]
  },
  {
   "cell_type": "markdown",
   "metadata": {},
   "source": [
    "### Why do we need for weights and bias\n",
    "\n",
    "- each input has a weight assigned. \n",
    "- Weight increases the steepness of activation function (and thereby decide how fast the activation function will trigger)\n",
    "- the bias is used to delay the triggering of the activation function \n",
    "- Weights shows the strength/ effectiveness of the particular node (more weight an input has, the higher the impact on the output)\n",
    "- A bias value allows you to shift the activation function curve up or down.\n",
    "\n",
    "output  =  sum (weights * inputs) + bias"
   ]
  },
  {
   "cell_type": "code",
   "execution_count": null,
   "metadata": {},
   "outputs": [],
   "source": []
  }
 ],
 "metadata": {
  "kernelspec": {
   "display_name": "Python [conda env:nf] *",
   "language": "python",
   "name": "conda-env-nf-py"
  },
  "language_info": {
   "codemirror_mode": {
    "name": "ipython",
    "version": 3
   },
   "file_extension": ".py",
   "mimetype": "text/x-python",
   "name": "python",
   "nbconvert_exporter": "python",
   "pygments_lexer": "ipython3",
   "version": "3.6.6"
  }
 },
 "nbformat": 4,
 "nbformat_minor": 2
}
