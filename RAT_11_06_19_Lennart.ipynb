{
 "cells": [
  {
   "cell_type": "markdown",
   "metadata": {},
   "source": [
    "### Bias Variance Trade Off"
   ]
  },
  {
   "cell_type": "markdown",
   "metadata": {},
   "source": [
    "Variance: \n",
    "- Error due to the complex model trying to fit the data. \n",
    "- High variance causes the model to take into account random noise (/high sensitivity to fluctuations of the data) in the training data and thereby distort the predicted output.\n",
    "- High variance models are very good at predicting data based on the given training data set but are bad at predicting values based on an unknown data set.\n",
    "- High Variance = Overfitting\n",
    "\n",
    "Bias: \n",
    "- Error due to the model’s simplistic assumptions in fitting the data. \n",
    "- High bias causes the model to miss the relevant relations between independent and dependent variables. \n",
    "- High bias models are very flexible and can be applied to data outside the training data set, but the prediction results will be poor.\n",
    "- High Bias = Underfitting\n",
    "\n",
    "Bias Variance Trade Off:\n",
    "- tradeoff between how \"flexible\" the model is and how well it performs on unseen data (underfitting vs. overfitting)\n",
    "- model complexity increases the variance and decreases the bias (overfitting)\n",
    "- model simplicity increases the bias and decreases the variance (underfitting)\n",
    "- goal: simultaneously minimize both bias and variance in order to generate a model that has the correct level of fit, meaning it is able to generalize beyond the training set \n",
    "- Correct Fit: Right balance between Bias (Underfitting) and Variance (Overfitting) in order to generate a model with high predictive power beyond the training data set.\n",
    "\n",
    "Example:\n",
    "The startup BioCatch uses biometric data from the movement of the courser when navigating in the online banking system. By measuring these movements and the biometric features of the owner of the online banking account the software can detect fraud. The level of sensitivity the software is operating on could be an overfit if the algoryhtm  has a high variance the software will detect fraud even tough it is no fraud. On the other hand the algoryhtm might to general and thereby misses the relevant data. "
   ]
  },
  {
   "cell_type": "code",
   "execution_count": null,
   "metadata": {},
   "outputs": [],
   "source": []
  }
 ],
 "metadata": {
  "kernelspec": {
   "display_name": "Python [conda env:nf] *",
   "language": "python",
   "name": "conda-env-nf-py"
  },
  "language_info": {
   "codemirror_mode": {
    "name": "ipython",
    "version": 3
   },
   "file_extension": ".py",
   "mimetype": "text/x-python",
   "name": "python",
   "nbconvert_exporter": "python",
   "pygments_lexer": "ipython3",
   "version": "3.6.6"
  }
 },
 "nbformat": 4,
 "nbformat_minor": 2
}
