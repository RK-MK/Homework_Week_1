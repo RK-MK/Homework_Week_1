{
 "cells": [
  {
   "cell_type": "markdown",
   "metadata": {},
   "source": [
    "### Task: Describe the bias-variance trade-off in a few sentences!"
   ]
  },
  {
   "cell_type": "markdown",
   "metadata": {},
   "source": [
    "If a machine learning model is used, that is too simple to describe the real interrelations (underfitting), it will have a high bias, which means a high error. The fit of a model with high bias will be similar for both training data and test data.\n",
    "\n",
    "If a machine learning model is used, that is too complex, it will have a low bias but a high variance, which means a very low error for the training data but a very high error for the testing data. The reason is that the model also reacts to the noise in the data and learns from it, which leads to overfitting.\n",
    "\n",
    "Thus the aim is to adjust the model in a way that the sweet spot between overfitting and underfitting is found. To reach this aim, validation curves can be used, showing the quality of the fit for different degrees of complexity for both training and test data."
   ]
  }
 ],
 "metadata": {
  "kernelspec": {
   "display_name": "Python [conda env:nf] *",
   "language": "python",
   "name": "conda-env-nf-py"
  },
  "language_info": {
   "codemirror_mode": {
    "name": "ipython",
    "version": 3
   },
   "file_extension": ".py",
   "mimetype": "text/x-python",
   "name": "python",
   "nbconvert_exporter": "python",
   "pygments_lexer": "ipython3",
   "version": "3.6.6"
  }
 },
 "nbformat": 4,
 "nbformat_minor": 2
}
