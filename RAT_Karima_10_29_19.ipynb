{
 "cells": [
  {
   "cell_type": "markdown",
   "metadata": {},
   "source": [
    "Simple Linear Regression:\n",
    "---\n",
    "\n",
    "LR models a linear relationship between a dependent variable (y) and one (=Simple LR) or several (=Multiple LR) independent variables (xi). For a simple LR it has the following form:\n",
    "\n",
    "y = mx + b + error (with m being the slope,  b the intercept (y-value at x=0) and error the residual, i.e. the variance in y which cannot be explained by the linear regression model).\n",
    "\n",
    "After the model has been fit, we can predict new y-values (y-hat) for any given x-value, according to the formula:\n",
    "\n",
    "y-hat = mx + b\n",
    "\n",
    "The model is usually fit by the Ordinary Least Sqaures (OLS) algorithm, which minimizes the sum of squared errors (SSE), also called residual sum of squares (RSS), i.e. the squared distance between the actual y value and the model-predicted y value (y-hat). "
   ]
  },
  {
   "cell_type": "markdown",
   "metadata": {},
   "source": [
    "Multiple Linear Regression:\n",
    "---\n",
    "\n",
    "In multiple LR, the formula takes the following form:\n",
    "\n",
    "y = m1 * x1 + m2 * x2 + ... + mn * xn + b ( + error)\n",
    "\n",
    "Or in matrix notation:\n",
    "\n",
    "y = MX + error\n",
    "\n",
    "The terms m1...mn reflect the linear relationship between the y variable and the variable xn. For example, more specifically, one can say that if we increase x1 by one unit (holding the other x variables constant), then the y value will increase by m1 units."
   ]
  }
 ],
 "metadata": {
  "kernelspec": {
   "display_name": "Python [conda env:nf] *",
   "language": "python",
   "name": "conda-env-nf-py"
  },
  "language_info": {
   "codemirror_mode": {
    "name": "ipython",
    "version": 3
   },
   "file_extension": ".py",
   "mimetype": "text/x-python",
   "name": "python",
   "nbconvert_exporter": "python",
   "pygments_lexer": "ipython3",
   "version": "3.6.6"
  }
 },
 "nbformat": 4,
 "nbformat_minor": 2
}
