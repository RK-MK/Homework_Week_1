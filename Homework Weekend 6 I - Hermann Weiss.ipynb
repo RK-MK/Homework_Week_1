{
 "cells": [
  {
   "cell_type": "markdown",
   "metadata": {},
   "source": [
    "# Homework Weekend 6\n",
    "## Regularizartion - Lasso and Ridge\n",
    "### Sources\n",
    "#### Reading:\n",
    "- https://www.statisticshowto.datasciencecentral.com/lasso-regression/<br>\n",
    "- https://codingstartups.com/practical-machine-learning-ridge-regression-vs-lasso/<br>\n",
    "- https://www.datacamp.com/community/tutorials/tutorial-ridge-lasso-elastic-net<br>\n",
    "- https://towardsdatascience.com/ridge-and-lasso-regression-a-complete-guide-with-python-scikit-learn-e20e34bcbf0b<br>\n",
    "- https://towardsdatascience.com/how-to-perform-lasso-and-ridge-regression-in-python-3b3b75541ad8<br>\n",
    "\n",
    "#### Coding:\n",
    "- https://datascienceplus.com/lasso-regression-in-python/<br>\n",
    "\n",
    "#### Data:\n",
    "- https://www.kaggle.com/c/house-prices-advanced-regression-techniques/data <br>"
   ]
  },
  {
   "cell_type": "markdown",
   "metadata": {},
   "source": [
    "### Setting up the Workshop"
   ]
  },
  {
   "cell_type": "code",
   "execution_count": 58,
   "metadata": {},
   "outputs": [],
   "source": [
    "## Import Libraries\n",
    "# Numpy Arrays and Array Math\n",
    "import numpy as np\n",
    "# DataFrames\n",
    "import pandas as pd\n",
    "# Fancy Visualizations\n",
    "import seaborn as sns\n",
    "# Basic Visualizations\n",
    "import matplotlib\n",
    "\n",
    "## Import Functions\n",
    "#\n",
    "from scipy.stats import skew\n",
    "#\n",
    "import matplotlib.pyplot as plt\n",
    "#\n",
    "from IPython.display import display, HTML\n",
    "#\n",
    "from scipy.stats.stats import pearsonr\n",
    "#\n",
    "from subprocess import check_output\n",
    "# Ridge regression Model\n",
    "from sklearn.linear_model import Ridge, RidgeCV, ElasticNet, LassoCV, LassoLarsCV\n",
    "#\n",
    "from sklearn.model_selection import cross_val_score\n",
    "\n",
    "## Homebrew Functions\n",
    "# Returns the Root Mean Square Error of each k-folding (5 times) in across validation of a Model\n",
    "def rmse_cv(model):\n",
    "    rmse= np.sqrt(-cross_val_score(model, X_train, y, scoring=\"neg_mean_squared_error\", cv = 5))\n",
    "    return(rmse)\n",
    "\n",
    "## Settings\n",
    "#\n",
    "%matplotlib inline"
   ]
  },
  {
   "cell_type": "markdown",
   "metadata": {},
   "source": [
    "### 01 Data Mining"
   ]
  },
  {
   "cell_type": "code",
   "execution_count": 4,
   "metadata": {},
   "outputs": [],
   "source": [
    "## Importing Data\n",
    "train = pd.read_csv('train.csv')\n",
    "test  = pd.read_csv(\"test.csv\")"
   ]
  },
  {
   "cell_type": "code",
   "execution_count": 17,
   "metadata": {},
   "outputs": [],
   "source": [
    "# Combining 2 DataFrames into one\n",
    "all_data = pd.concat((train.loc[:,'MSSubClass':'SaleCondition'],\n",
    "                      test.loc[:,'MSSubClass':'SaleCondition']))"
   ]
  },
  {
   "cell_type": "markdown",
   "metadata": {},
   "source": [
    "### 02 Data Exploring"
   ]
  },
  {
   "cell_type": "code",
   "execution_count": 15,
   "metadata": {
    "scrolled": true
   },
   "outputs": [
    {
     "data": {
      "image/png": "[encoded data removed]",
      "text/plain": [
       "<Figure size 576x360 with 2 Axes>"
      ]
     },
     "metadata": {
      "needs_background": "light"
     },
     "output_type": "display_data"
    }
   ],
   "source": [
    "# Setting up Dictionary: Price - ln(1+Price)\n",
    "new_price = {\"price\":train[\"SalePrice\"], \"log(price + 1)\": np.log1p(train[\"SalePrice\"])}\n",
    "# Turn Dictionary into DataFrame\n",
    "prices = pd.DataFrame(new_price)\n",
    "# Handing over Parmeters for Plot\n",
    "matplotlib.rcParams['figure.figsize'] = (8.0, 5.0)\n",
    "# Plot\n",
    "prices.hist()\n",
    "plt.show()"
   ]
  },
  {
   "cell_type": "markdown",
   "metadata": {},
   "source": [
    "<i>Thanks to the LN, the feature seems to be normalized.</i>"
   ]
  },
  {
   "cell_type": "markdown",
   "metadata": {},
   "source": [
    "### 03 - Feature Engineering"
   ]
  },
  {
   "cell_type": "code",
   "execution_count": 25,
   "metadata": {},
   "outputs": [
    {
     "data": {
      "text/plain": [
       "Index(['MSSubClass', 'LotFrontage', 'LotArea', 'MasVnrArea', 'BsmtFinSF1',\n",
       "       'BsmtFinSF2', 'BsmtUnfSF', 'TotalBsmtSF', '1stFlrSF', '2ndFlrSF',\n",
       "       'LowQualFinSF', 'GrLivArea', 'BsmtHalfBath', 'KitchenAbvGr',\n",
       "       'WoodDeckSF', 'OpenPorchSF', 'EnclosedPorch', '3SsnPorch',\n",
       "       'ScreenPorch', 'PoolArea', 'MiscVal'],\n",
       "      dtype='object')"
      ]
     },
     "execution_count": 25,
     "metadata": {},
     "output_type": "execute_result"
    }
   ],
   "source": [
    "# Transforming Salesprice Data via LN\n",
    "train[\"SalePrice\"] = np.log1p(train[\"SalePrice\"])\n",
    "# Saving the Names of all numerical (non-object) Features\n",
    "numeric_feats = all_data.dtypes[all_data.dtypes != \"object\"].index\n",
    "# Calculate the Skewness\n",
    "skewed_feats = train[numeric_feats].apply(lambda x: skew(x.dropna()))\n",
    "# Save the Features with a Skewness greater than 0.75\n",
    "skewed_feats = skewed_feats[skewed_feats > 0.75]\n",
    "# Save the Names of the Features instead\n",
    "skewed_feats = skewed_feats.index\n",
    "# Show these Features\n",
    "skewed_feats"
   ]
  },
  {
   "cell_type": "code",
   "execution_count": 26,
   "metadata": {},
   "outputs": [
    {
     "name": "stderr",
     "output_type": "stream",
     "text": [
      "//anaconda3/envs/nf/lib/python3.6/site-packages/ipykernel_launcher.py:2: RuntimeWarning: invalid value encountered in log1p\n",
      "  \n"
     ]
    }
   ],
   "source": [
    "# Do the LN-Transformation on all data, on all numerical Features\n",
    "all_data[skewed_feats] = np.log1p(all_data[skewed_feats])"
   ]
  },
  {
   "cell_type": "code",
   "execution_count": 44,
   "metadata": {},
   "outputs": [],
   "source": [
    "# Create Dummy Features\n",
    "all_data = pd.get_dummies(all_data)\n",
    "# Fill missing Values with Mean of each Feature\n",
    "all_data = all_data.fillna(all_data.mean())\n",
    "# Seperate back into Training and Testing Data\n",
    "X_train = all_data[:train.shape[0]]\n",
    "X_test = all_data[train.shape[0]:]\n",
    "# Define Training's Data Dependent Feature (aka the Target)\n",
    "y = train.SalePrice"
   ]
  },
  {
   "cell_type": "markdown",
   "metadata": {},
   "source": [
    "### 04 - Predictive Modeling"
   ]
  },
  {
   "cell_type": "code",
   "execution_count": 51,
   "metadata": {},
   "outputs": [
    {
     "data": {
      "text/plain": [
       "array([-7.88645189e-05, -1.14947771e-04, -1.12175054e-04, -7.63097167e-05,\n",
       "       -1.40010784e-04])"
      ]
     },
     "execution_count": 51,
     "metadata": {},
     "output_type": "execute_result"
    }
   ],
   "source": [
    "## Evaluate a score by cross-validation\n",
    "# Estimator: Ridge Function ||y - Xw||^2_2 + alpha * ||w||^2_2\n",
    "# Independent Training Features\n",
    "# Target Feature\n",
    "# scoring type negative mean squared error\n",
    "# Kfold of 5\n",
    "cross_val_score(Ridge(), X_train, y, scoring=\"neg_mean_squared_error\", cv = 5)"
   ]
  },
  {
   "cell_type": "code",
   "execution_count": 57,
   "metadata": {},
   "outputs": [
    {
     "data": {
      "text/plain": [
       "array([0.00888057, 0.01072137, 0.01059127, 0.00873554, 0.01183262])"
      ]
     },
     "execution_count": 57,
     "metadata": {},
     "output_type": "execute_result"
    }
   ],
   "source": [
    "# Transform the Output into Root-mean-square-error\n",
    "rmse_ridge = np.sqrt(-cross_val_score(Ridge(), X_train, y, scoring=\"neg_mean_squared_error\", cv = 5))\n",
    "rmse_ridge"
   ]
  },
  {
   "cell_type": "code",
   "execution_count": 60,
   "metadata": {},
   "outputs": [
    {
     "data": {
      "image/png": "[encoded data removed]",
      "text/plain": [
       "<Figure size 432x288 with 1 Axes>"
      ]
     },
     "metadata": {
      "needs_background": "light"
     },
     "output_type": "display_data"
    }
   ],
   "source": [
    "# Setting Different Alphas for the Ridge Function\n",
    "alphas = [0.05, 0.1, 0.3, 1, 3, 5, 10, 15, 30, 50, 75]\n",
    "# Calculatin the Mean RSME for each Alpha\n",
    "cv_ridge = [rmse_cv(Ridge(alpha = alpha)).mean() \n",
    "            for alpha in alphas]\n",
    "# Turn Results into Pandas\n",
    "cv_ridge = pd.Series(cv_ridge, index = alphas)\n",
    "# Draw Plot\n",
    "cv_ridge.plot(title = \"Validation\")\n",
    "plt.xlabel(\"alpha\")\n",
    "plt.ylabel(\"rmse\")\n",
    "plt.show()"
   ]
  },
  {
   "cell_type": "code",
   "execution_count": 61,
   "metadata": {},
   "outputs": [
    {
     "data": {
      "text/plain": [
       "0.009856187303325305"
      ]
     },
     "execution_count": 61,
     "metadata": {},
     "output_type": "execute_result"
    }
   ],
   "source": [
    "## Minimum Error\n",
    "cv_ridge.min()"
   ]
  },
  {
   "cell_type": "code",
   "execution_count": 62,
   "metadata": {
    "scrolled": true
   },
   "outputs": [
    {
     "name": "stderr",
     "output_type": "stream",
     "text": [
      "//anaconda3/envs/nf/lib/python3.6/site-packages/sklearn/model_selection/_split.py:2053: FutureWarning: You should specify a value for 'cv' instead of relying on the default value. The default value will change from 3 to 5 in version 0.22.\n",
      "  warnings.warn(CV_WARNING, FutureWarning)\n",
      "//anaconda3/envs/nf/lib/python3.6/site-packages/sklearn/model_selection/_split.py:2053: FutureWarning: You should specify a value for 'cv' instead of relying on the default value. The default value will change from 3 to 5 in version 0.22.\n",
      "  warnings.warn(CV_WARNING, FutureWarning)\n",
      "//anaconda3/envs/nf/lib/python3.6/site-packages/sklearn/model_selection/_split.py:2053: FutureWarning: You should specify a value for 'cv' instead of relying on the default value. The default value will change from 3 to 5 in version 0.22.\n",
      "  warnings.warn(CV_WARNING, FutureWarning)\n",
      "//anaconda3/envs/nf/lib/python3.6/site-packages/sklearn/model_selection/_split.py:2053: FutureWarning: You should specify a value for 'cv' instead of relying on the default value. The default value will change from 3 to 5 in version 0.22.\n",
      "  warnings.warn(CV_WARNING, FutureWarning)\n",
      "//anaconda3/envs/nf/lib/python3.6/site-packages/sklearn/model_selection/_split.py:2053: FutureWarning: You should specify a value for 'cv' instead of relying on the default value. The default value will change from 3 to 5 in version 0.22.\n",
      "  warnings.warn(CV_WARNING, FutureWarning)\n",
      "//anaconda3/envs/nf/lib/python3.6/site-packages/sklearn/model_selection/_split.py:2053: FutureWarning: You should specify a value for 'cv' instead of relying on the default value. The default value will change from 3 to 5 in version 0.22.\n",
      "  warnings.warn(CV_WARNING, FutureWarning)\n"
     ]
    },
    {
     "data": {
      "text/plain": [
       "0.011227594909962859"
      ]
     },
     "execution_count": 62,
     "metadata": {},
     "output_type": "execute_result"
    }
   ],
   "source": [
    "# Create LassoCV Machine, feed it the training Data and 4 Alphas\n",
    "model_lasso = LassoCV(alphas = [1, 0.1, 0.001, 0.0005]).fit(X_train, y)\n",
    "# Calculate the mean RSME\n",
    "rmse_cv(model_lasso).mean()"
   ]
  },
  {
   "cell_type": "code",
   "execution_count": 68,
   "metadata": {
    "scrolled": true
   },
   "outputs": [
    {
     "data": {
      "text/plain": [
       "array([-0.00000000e+00,  6.12920756e-03,  7.33194713e-03,  2.74410079e-03,\n",
       "        2.33009890e-04,  1.40529423e-04,  1.04757238e-03,  9.91288085e-04,\n",
       "        2.62203288e-03,  1.28397133e-02,  2.05936120e-03,  3.21109969e-03,\n",
       "       -3.40310977e-05,  1.74143261e-04,  1.96113237e-05,  3.89135916e-04,\n",
       "        2.58484379e-04,  2.04300110e-04,  7.57120247e-04, -1.62251613e-04,\n",
       "       -1.51061748e-04,  1.55443357e-04,  7.95897089e-04, -1.23359188e-05])"
      ]
     },
     "execution_count": 68,
     "metadata": {},
     "output_type": "execute_result"
    }
   ],
   "source": [
    "# Extract the Coeficients of the Machine\n",
    "coef = pd.Series(model_lasso.coef_, index = X_train.columns)\n",
    "coef.unique()"
   ]
  },
  {
   "cell_type": "code",
   "execution_count": 69,
   "metadata": {},
   "outputs": [
    {
     "name": "stdout",
     "output_type": "stream",
     "text": [
      "Lasso picked 23 variables and eliminated the other 265 variables\n"
     ]
    }
   ],
   "source": [
    "print(\"Lasso picked \" + str(sum(coef != 0)) + \" variables and eliminated the other \" +  str(sum(coef == 0)) + \" variables\")"
   ]
  },
  {
   "cell_type": "code",
   "execution_count": 70,
   "metadata": {},
   "outputs": [
    {
     "data": {
      "image/png": "[encoded data removed]",
      "text/plain": [
       "<Figure size 576x720 with 1 Axes>"
      ]
     },
     "metadata": {
      "needs_background": "light"
     },
     "output_type": "display_data"
    }
   ],
   "source": [
    "# Get the Lowest 10, and the Highest 10 Coeefficients\n",
    "imp_coef = pd.concat([coef.sort_values().head(10),\n",
    "                     coef.sort_values().tail(10)])\n",
    "# Plot Coeficients\n",
    "matplotlib.rcParams['figure.figsize'] = (8.0, 10.0)\n",
    "imp_coef.plot(kind = \"barh\")\n",
    "plt.title(\"Coefficients in the Lasso Model\")\n",
    "plt.show()"
   ]
  },
  {
   "cell_type": "code",
   "execution_count": 73,
   "metadata": {},
   "outputs": [
    {
     "data": {
      "image/png": "[encoded data removed]",
      "text/plain": [
       "<Figure size 432x432 with 1 Axes>"
      ]
     },
     "metadata": {
      "needs_background": "light"
     },
     "output_type": "display_data"
    }
   ],
   "source": [
    "# Set Parameters for Plot\n",
    "matplotlib.rcParams['figure.figsize'] = (6.0, 6.0)\n",
    "#  Extract Predictions and actual Values\n",
    "preds = pd.DataFrame({\"preds\":model_lasso.predict(X_train), \"true\":y})\n",
    "# Calculate the Residuals\n",
    "preds[\"residuals\"] = preds[\"true\"] - preds[\"preds\"]\n",
    "# Scatter Plot Prediction / Residual\n",
    "preds.plot(x = \"preds\", y = \"residuals\",kind = \"scatter\")\n",
    "plt.show()"
   ]
  },
  {
   "cell_type": "markdown",
   "metadata": {},
   "source": [
    "### Open Questions\n",
    "- What are Dummy Variabels being made for/ of in 03?<br>\n",
    "- Why are my values different from the Blog?<br>"
   ]
  }
 ],
 "metadata": {
  "kernelspec": {
   "display_name": "Python [conda env:nf] *",
   "language": "python",
   "name": "conda-env-nf-py"
  },
  "language_info": {
   "codemirror_mode": {
    "name": "ipython",
    "version": 3
   },
   "file_extension": ".py",
   "mimetype": "text/x-python",
   "name": "python",
   "nbconvert_exporter": "python",
   "pygments_lexer": "ipython3",
   "version": "3.6.6"
  }
 },
 "nbformat": 4,
 "nbformat_minor": 2
}
