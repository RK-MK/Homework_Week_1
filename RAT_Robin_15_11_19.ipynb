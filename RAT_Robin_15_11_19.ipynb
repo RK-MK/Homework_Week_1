{
 "cells": [
  {
   "cell_type": "markdown",
   "metadata": {},
   "source": [
    "# The bias-variance tradeoff\n",
    "\n",
    "To put it in simple terms, the bias-variance tradeoff describes the tradeoff between flexibility (i.e. complexity / degrees of freedom) of the model and how well it performs on unseen data. \n",
    "\n",
    "The main goal of any machine learning algorithm is always to perform well on unseen data. Or to put it in more formalistic terms: one has to minimize the expected <strong>test</strong> mean squared error (or any other metric of success that one is using).\n",
    "\n",
    "Two different errors control the test MSE:\n",
    "\n",
    "Bias error: Is an effect of underfitting. It results from errornous assumptions in the model. E.g.: Trying to fit a sinusodial function with a straight line while result in a large bias error.\n",
    "\n",
    "Variance error: Is an effect of overfitting. model is sensitive to small fluctuations in training data. If we again look at the example of a sinusodial function, a degree 20 polynomial fit will result in a low bias (because it fits the training data very well). However, the ability to \"react\" to changes in the data and thus perform well on unseen data is reduced.\n",
    "\n",
    "Example: Stock price prediction. In stock price prediction, the model is always trained on historic data. Many different features and high complexity can be used to train the model perfectly to the data (high variance). However, the goal is to predict future stock prices (in order to make money). However, error in the values the model predicts for unseen data is likely to be high, i.e. its generalization ability is low (low bias). As mentioned above, the goal in ML is always to have an acceptable level of bias and variance error. "
   ]
  }
 ],
 "metadata": {
  "kernelspec": {
   "display_name": "Python [conda env:nf] *",
   "language": "python",
   "name": "conda-env-nf-py"
  },
  "language_info": {
   "codemirror_mode": {
    "name": "ipython",
    "version": 3
   },
   "file_extension": ".py",
   "mimetype": "text/x-python",
   "name": "python",
   "nbconvert_exporter": "python",
   "pygments_lexer": "ipython3",
   "version": "3.6.6"
  }
 },
 "nbformat": 4,
 "nbformat_minor": 4
}
