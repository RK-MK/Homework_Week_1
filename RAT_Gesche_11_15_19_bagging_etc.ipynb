{
 "cells": [
  {
   "cell_type": "markdown",
   "metadata": {},
   "source": [
    "# Bagging, Boosting, Stacking"
   ]
  },
  {
   "cell_type": "markdown",
   "metadata": {},
   "source": [
    "The major aim to ensemble several machine learning algorithms is to achieve an improvement by a certain combination of techniques. Whereas bagging and boosting are generally used to combine models of the same kind (trees --> random forest), different machine learning techniques are stacked to improve predictions. The focus of bagging and boosting is further on reducing variance (bagging) and bias (boosting). In the case of bagging random and therefore independent samples are drawn and models are generated parallel. With boosting models are based on the previous and therefore generated sequentially."
   ]
  }
 ],
 "metadata": {
  "kernelspec": {
   "display_name": "Python 3",
   "language": "python",
   "name": "python3"
  },
  "language_info": {
   "codemirror_mode": {
    "name": "ipython",
    "version": 3
   },
   "file_extension": ".py",
   "mimetype": "text/x-python",
   "name": "python",
   "nbconvert_exporter": "python",
   "pygments_lexer": "ipython3",
   "version": "3.7.3"
  }
 },
 "nbformat": 4,
 "nbformat_minor": 2
}
