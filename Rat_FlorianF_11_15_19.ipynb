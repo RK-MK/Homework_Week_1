{
 "cells": [
  {
   "cell_type": "markdown",
   "metadata": {},
   "source": [
    "## Bias Variance Tradeoff 2"
   ]
  },
  {
   "cell_type": "markdown",
   "metadata": {},
   "source": [
    "Basicly we want to fit a model that works good on unseen data. If we generate a model that fits the trainingdata perfectly, we overfit the model that means we have a complex model with high variance and low bias. But our model will follow every noise in the training data and therefore will perform bad on unseen data.\n",
    "If we build a simple model with high bias and low variance our model will underfit the data, so it will perform bad on unseen data aswell. \n",
    "So our goal is to find a model with a good balance between bias and variance, so our model will work good for unseen data."
   ]
  }
 ],
 "metadata": {
  "kernelspec": {
   "display_name": "Python [conda env:nf] *",
   "language": "python",
   "name": "conda-env-nf-py"
  },
  "language_info": {
   "codemirror_mode": {
    "name": "ipython",
    "version": 3
   },
   "file_extension": ".py",
   "mimetype": "text/x-python",
   "name": "python",
   "nbconvert_exporter": "python",
   "pygments_lexer": "ipython3",
   "version": "3.6.6"
  }
 },
 "nbformat": 4,
 "nbformat_minor": 2
}
