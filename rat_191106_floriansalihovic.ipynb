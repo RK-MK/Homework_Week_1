{
 "cells": [
  {
   "cell_type": "markdown",
   "metadata": {},
   "source": [
    "# Bias-Variance Tradeoff"
   ]
  },
  {
   "cell_type": "markdown",
   "metadata": {},
   "source": [
    "The bias variance radeoff describes the problem of creating a model which is robust towards the training- as well as test-dataset. High variance expresses a high degree of freedom (expressed in the degree of the polynomial of the model) which leads to a high error rate when testing the model. High bias has a low degree of freedom with a propable low error rate. When defining a model, a tradeoff has to be found which allows for a general usage of the model. The stock market could serve as an example: utilizing historical data could lead to a potential very accurate, but overfitting model with high variance. High bias may lead to underfitting as the model is oversimplified: if a house only has one bathroom, it has to be cheap."
   ]
  }
 ],
 "metadata": {
  "kernelspec": {
   "display_name": "Python [conda env:nf] *",
   "language": "python",
   "name": "conda-env-nf-py"
  },
  "language_info": {
   "codemirror_mode": {
    "name": "ipython",
    "version": 3
   },
   "file_extension": ".py",
   "mimetype": "text/x-python",
   "name": "python",
   "nbconvert_exporter": "python",
   "pygments_lexer": "ipython3",
   "version": "3.6.6"
  }
 },
 "nbformat": 4,
 "nbformat_minor": 2
}
