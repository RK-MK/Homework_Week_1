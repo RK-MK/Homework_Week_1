{
 "cells": [
  {
   "cell_type": "markdown",
   "metadata": {},
   "source": [
    "Decision_Tree"
   ]
  },
  {
   "cell_type": "markdown",
   "metadata": {},
   "source": [
    "Decision Trees are useful methods for classifying data.\n",
    "Note that a decision tree can also be applied for regression, in that any finite dataset can be subdivided and classified.\n",
    "For continous data one may consider branching together with some linear regression and some continuity constraint.\n",
    "In a decision tree the dataset is categorized by criterias that depend on the regressors or independent variables.\n",
    "There the dataset is split into the different categories according to some criteria.\n",
    "This can be repeated on several levels, where the split datasets are further splitted given some criteria.\n",
    "In principle this can be done until a given test dataset is perfectly fitted (overfitted)."
   ]
  },
  {
   "cell_type": "markdown",
   "metadata": {},
   "source": [
    "Often one looks at some criteria that measures the disorder of the dataset at a given node.\n",
    "To key measures are the entropy and the Gini coeff, but one can also construct others.\n",
    "The Gini coeff is particularly relevant as it is less expensive to calculate than the entropy, but is an overall reliable measure.\n",
    "A perfect fit is given when the entropy vanishes or the Gini coeff becomes minimal.\n",
    "Typically one should try to take less nodes into account, in order not to overfit the data."
   ]
  },
  {
   "cell_type": "markdown",
   "metadata": {},
   "source": [
    "In general the Gini coeff or entropy can be used to find optimal thresholds for the splitting criteria by minimizing the Gini coeff and thus find an optimal categorization of the dataset."
   ]
  },
  {
   "cell_type": "code",
   "execution_count": null,
   "metadata": {},
   "outputs": [],
   "source": []
  }
 ],
 "metadata": {
  "kernelspec": {
   "display_name": "Python 3",
   "language": "python",
   "name": "python3"
  },
  "language_info": {
   "codemirror_mode": {
    "name": "ipython",
    "version": 3
   },
   "file_extension": ".py",
   "mimetype": "text/x-python",
   "name": "python",
   "nbconvert_exporter": "python",
   "pygments_lexer": "ipython3",
   "version": "3.7.3"
  }
 },
 "nbformat": 4,
 "nbformat_minor": 2
}
