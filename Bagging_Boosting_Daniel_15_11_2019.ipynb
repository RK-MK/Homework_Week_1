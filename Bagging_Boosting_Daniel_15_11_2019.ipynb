{
 "cells": [
  {
   "cell_type": "markdown",
   "metadata": {},
   "source": [
    "# Improving predictions: Bagging and Boosting\n",
    "\n",
    "In order to improve their performance, ensemble techniques like bagging or boosting can be applied to statistical learning models.\n",
    "\n",
    "Bagging uses a parallel created ensemble of independent base learners and reduces final model variance by averaging over the ensemble outputs. For each base learner, bootstrap samples are drawn from the overall available data and a majority vote/average is used as final model output.\n",
    "\n",
    "Boosting uses a sequentially created ensemble of models where each subsequent learner improves by giving more weight to more accurate classifiers. Through that, weak learners become strong learners and final predictions will be based on a weighted majority vote/sum across all subsequently build predictions."
   ]
  },
  {
   "cell_type": "code",
   "execution_count": null,
   "metadata": {},
   "outputs": [],
   "source": []
  }
 ],
 "metadata": {
  "kernelspec": {
   "display_name": "Python [conda env:nf] *",
   "language": "python",
   "name": "conda-env-nf-py"
  },
  "language_info": {
   "codemirror_mode": {
    "name": "ipython",
    "version": 3
   },
   "file_extension": ".py",
   "mimetype": "text/x-python",
   "name": "python",
   "nbconvert_exporter": "python",
   "pygments_lexer": "ipython3",
   "version": "3.6.6"
  }
 },
 "nbformat": 4,
 "nbformat_minor": 2
}
