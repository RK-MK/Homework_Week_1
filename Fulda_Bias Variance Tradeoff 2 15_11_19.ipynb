{
 "cells": [
  {
   "cell_type": "markdown",
   "metadata": {},
   "source": [
    "# Bias Variance Tradeoff\n",
    "\n",
    "The Bias Variance Tradeoff is a typical problem in supervised machine learning. The goal is that the predicted outcome of our model is as near as possible to the real data. It should capture precisely the trainig data but should also generalize well to unseen data - which is nearly impossible. If your model has a high bias (underfitting, low variance) the assumptions you made are too far away from the reality. However, if your model has a high variance (overfitting, low bias) the model is nearly congruent with the training data (too sensitive to the fluctuations) but cannot cope well with the test data. So you have to look for the sweet spot in between (convergence) to built a good model."
   ]
  },
  {
   "cell_type": "code",
   "execution_count": null,
   "metadata": {},
   "outputs": [],
   "source": []
  }
 ],
 "metadata": {
  "kernelspec": {
   "display_name": "Python [conda env:nf] *",
   "language": "python",
   "name": "conda-env-nf-py"
  },
  "language_info": {
   "codemirror_mode": {
    "name": "ipython",
    "version": 3
   },
   "file_extension": ".py",
   "mimetype": "text/x-python",
   "name": "python",
   "nbconvert_exporter": "python",
   "pygments_lexer": "ipython3",
   "version": "3.6.6"
  }
 },
 "nbformat": 4,
 "nbformat_minor": 2
}
