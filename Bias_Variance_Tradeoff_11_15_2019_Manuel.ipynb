{
 "cells": [
  {
   "cell_type": "markdown",
   "metadata": {},
   "source": [
    "The bias-variance-tradeoff describes the problem of underfitting vs. overfitting. \n",
    "\n",
    "When the machine learning algorithm is trained with too few data (underfitting), the bias between the real dependency of the underlying data and the training data or rather testing data is very high.\n",
    "\n",
    "When the machine learning algorithm is trained with too much data (overfitting), the algorithm is able to match the training data very well, however deliveres high error rates for any other data than the training data. The model is very variable, which means has a very high variance.\n",
    "\n",
    "The bias-variance-tradeoff aims at finding a good balance between overfitting and underfitting in order to deliver small error rates for data which is not the training data."
   ]
  }
 ],
 "metadata": {
  "kernelspec": {
   "display_name": "Python [conda env:nf] *",
   "language": "python",
   "name": "conda-env-nf-py"
  },
  "language_info": {
   "codemirror_mode": {
    "name": "ipython",
    "version": 3
   },
   "file_extension": ".py",
   "mimetype": "text/x-python",
   "name": "python",
   "nbconvert_exporter": "python",
   "pygments_lexer": "ipython3",
   "version": "3.6.6"
  }
 },
 "nbformat": 4,
 "nbformat_minor": 2
}
