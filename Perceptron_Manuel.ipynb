{
 "cells": [
  {
   "cell_type": "markdown",
   "metadata": {},
   "source": [
    "### Perceptron and Neural Networks"
   ]
  },
  {
   "cell_type": "markdown",
   "metadata": {},
   "source": [
    "**Task:** Write definitions of Perceptron, Activation function, Error function, and need for weights and bias.\" Time limit is 20 mins."
   ]
  },
  {
   "cell_type": "markdown",
   "metadata": {},
   "source": [
    "**Perceptron:**\n",
    "A Perceptron is a single layer neural network, based on a modified version of the simplest model of a neuron. It consists of 4 parts:\n",
    "* Input values / One input layer\n",
    "* Weights and Bias\n",
    "* Net sum\n",
    "* Activation Function\n",
    "\n",
    "The perceptron rules are as follows:\n",
    "\n",
    "1. Initialize the weights to 0 or small random numbers.\n",
    "2. For each training sample x(i):\n",
    "   * Calculate the output value.\n",
    "   * Update the weights.\n",
    "\n",
    "\n",
    "**Activation function:** The activation function is used to propagate the output of a neuron forward. This output is received by the neurons of the next layer to which this neuron is connected (up to the output layer included). The activation function serves to introduce non-linearity in the modeling capabilities of the network. Widely used activation functions are linear functions, Sigmoid functions, Tanh functions or Softmax. \n",
    "\n",
    "**Error function:** The error function, also called loss function, is a function that tells us how good a neural network works for a certain task. If the error function is big, the network doesn’t perform very well. Aim is to reduce the error as good as possible.\n",
    "\n",
    "**Weights:** Inputs of a node are multiplied with a particular weight for each input. These weights are updated after backpropagation during training and are important for the learning effect of the neural network. \n",
    "\n",
    "**Bias:** A bias value allows to shift the activation function curve up or down."
   ]
  },
  {
   "cell_type": "code",
   "execution_count": null,
   "metadata": {},
   "outputs": [],
   "source": []
  }
 ],
 "metadata": {
  "kernelspec": {
   "display_name": "Python 3",
   "language": "python",
   "name": "python3"
  },
  "language_info": {
   "codemirror_mode": {
    "name": "ipython",
    "version": 3
   },
   "file_extension": ".py",
   "mimetype": "text/x-python",
   "name": "python",
   "nbconvert_exporter": "python",
   "pygments_lexer": "ipython3",
   "version": "3.7.3"
  }
 },
 "nbformat": 4,
 "nbformat_minor": 2
}
