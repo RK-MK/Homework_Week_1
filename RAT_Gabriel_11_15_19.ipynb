{
 "cells": [
  {
   "cell_type": "markdown",
   "metadata": {},
   "source": [
    "# Short summary and key take aways from Random Forrest and ensembel Methods\n",
    "\n",
    "## What are the benifits of using Random Forrest compared to decision trees.\n",
    "\n",
    "Random Forrest use the power of a crowd. Instead of relying on a single decision tree random forest rely on the output of many different decision trees. To be able to harness this power all instances can't be too correlated. Thererfor Random Forrest uses the following methods:\n",
    "    - Bagging \n",
    "        - Bagging (Bootstraping Aggregation) is the random selection of samples of a dataset to train the tree in a forest\n",
    "    - Feature Randomization is the random pick of features to build the main node of a decision tree. Since all trees start with randomly choosen features, their correlation is limited\n",
    "    \n",
    "## Why do we use Ensembles?\n",
    "\n",
    "The reason is pretty close to the reason we use a random forrest instead of a decession tree. All model output has errors. But if the model output doesn't correlate the output of many models will outperform the output of the single model.\n",
    "There are two many approaches in ensemble techniques: Sequencial and Parallel Methods:\n",
    "\n",
    "### Sequential Ensembles:\n",
    "\n",
    "Sequencial Ensembles exploit the depencence between tha base learner. They use a technique called Boosting or AdaBoost (Adaptive Boosting). The idea is to add weights to the data that a particular model misclassifies. These weights improve the output of the weak learners.\n",
    "\n",
    "### Parallel Ensembles:\n",
    "    \n",
    "Paralles Ensembles are the previously described random forrests. This approach exploits the independence of the base learners. \n",
    "\n",
    "## Stackin"
   ]
  },
  {
   "cell_type": "code",
   "execution_count": null,
   "metadata": {},
   "outputs": [],
   "source": [
    "#"
   ]
  }
 ],
 "metadata": {
  "kernelspec": {
   "display_name": "Python [conda env:nf] *",
   "language": "python",
   "name": "conda-env-nf-py"
  },
  "language_info": {
   "codemirror_mode": {
    "name": "ipython",
    "version": 3
   },
   "file_extension": ".py",
   "mimetype": "text/x-python",
   "name": "python",
   "nbconvert_exporter": "python",
   "pygments_lexer": "ipython3",
   "version": "3.6.6"
  }
 },
 "nbformat": 4,
 "nbformat_minor": 2
}
