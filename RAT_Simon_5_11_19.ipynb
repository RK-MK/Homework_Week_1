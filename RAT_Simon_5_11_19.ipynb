{
 "cells": [
  {
   "cell_type": "markdown",
   "metadata": {},
   "source": [
    "# An example for bias vs. variance:\n"
   ]
  },
  {
   "cell_type": "markdown",
   "metadata": {},
   "source": [
    "## bias example:\n",
    "A real life example to the both would be predicting a score to how likely a person will commit a crime ( as done in the US for example ).\n",
    "If we take a too slack approach like just saying that every male above the age of 10 is in general more likely to commit crimes we bias the model. The model would be too general to predict real patterns.\n",
    "Another example would be that someone puts in only data of people with asian ethnicity our model will learn to predict, that if someone commits a crime that person surely must be asian. As such our prediction is biased, and therefor too strict in its prediction."
   ]
  },
  {
   "cell_type": "markdown",
   "metadata": {},
   "source": [
    "## variance example:\n",
    "The Variance of our model on the other hand increases, when we try to fit our model to perfectly into the data. Let's say we train our model to perfectly predict the crime probability for the town of New Orleans. What would now happen if we take this model and use it for a random town in Iceland. It would take wrong assumptions based on how the data we trained it with was distributed, as the premise for a town in Iceland is surely different.<br>"
   ]
  },
  {
   "cell_type": "markdown",
   "metadata": {},
   "source": [
    "## bias vs variance trade-off:\n",
    "The problem we face is to minimize both bias and variance, which is in reality only achievable to some extent. As when the one gets lower the other gets higher and vice versa."
   ]
  },
  {
   "cell_type": "markdown",
   "metadata": {},
   "source": [
    "### links:\n",
    "https://www.quantstart.com/articles/The-Bias-Variance-Tradeoff-in-Statistical-Machine-Learning-The-Regression-Setting\n",
    "https://docs.google.com/presentation/d/1l1gmfXDaEp3LLVezzuFUy8Rbo0IiEjztsz4nFneBuZo/edit#slide=id.g65a813c30f_0_58"
   ]
  },
  {
   "cell_type": "code",
   "execution_count": null,
   "metadata": {},
   "outputs": [],
   "source": []
  }
 ],
 "metadata": {
  "kernelspec": {
   "display_name": "Python [conda env:nf] *",
   "language": "python",
   "name": "conda-env-nf-py"
  },
  "language_info": {
   "codemirror_mode": {
    "name": "ipython",
    "version": 3
   },
   "file_extension": ".py",
   "mimetype": "text/x-python",
   "name": "python",
   "nbconvert_exporter": "python",
   "pygments_lexer": "ipython3",
   "version": "3.6.6"
  }
 },
 "nbformat": 4,
 "nbformat_minor": 2
}
