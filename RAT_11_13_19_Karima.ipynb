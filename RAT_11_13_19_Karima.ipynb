{
 "cells": [
  {
   "cell_type": "markdown",
   "metadata": {},
   "source": [
    "## Decision Trees\n",
    "\n"
   ]
  },
  {
   "cell_type": "markdown",
   "metadata": {},
   "source": [
    "Decision Trees are a class of supervised machine learning models, which can be used for both classification problems (predicting classes) or regression problems (predicting continuous values). They make predictions by subsequently splitting the dataset based on some (selected) features (numerical or cateogrical), resulting in subsets of the data which are more homogeneous with respect to the to-be-predicted variable than the original dataset. \n",
    "\n",
    "For example, if we want to predict whether a randomly drawn person in Germany wears a mini-skirt, we will arrive at a better prediction after splitting the dataset based on gender into a male-subset (less likely to wear a mini-skirt) and a female-subset (more likely to wear a mini-skirt). Moreover, for the female subpopulation, we might arrive at an even better prediction by further subdividing the female subpopulation by age, creating a subset of females >40 years and females <=40 years (the latter being less probable to wear a mini-skirt than the first). \n",
    "\n",
    "---\n",
    "\n",
    "Technically speaking, the decision tree algorithm can use different metrics (Entropy, Gini, Classification Error) to decide which features to split on first (i.e. which features to use as the root node) and which features to split on after. Like with other ML models, we can use cross validation (train/test splitting of the data) to evaluate how well the model generalizes to unseen data and to avoid overfitting, which can be done by \"pruning\" the tree, i.e. cutting back some of its nodes and leafs."
   ]
  }
 ],
 "metadata": {
  "kernelspec": {
   "display_name": "Python [conda env:nf] *",
   "language": "python",
   "name": "conda-env-nf-py"
  },
  "language_info": {
   "codemirror_mode": {
    "name": "ipython",
    "version": 3
   },
   "file_extension": ".py",
   "mimetype": "text/x-python",
   "name": "python",
   "nbconvert_exporter": "python",
   "pygments_lexer": "ipython3",
   "version": "3.6.6"
  }
 },
 "nbformat": 4,
 "nbformat_minor": 2
}
